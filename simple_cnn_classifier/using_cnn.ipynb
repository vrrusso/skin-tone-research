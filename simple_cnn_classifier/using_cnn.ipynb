{
 "cells": [
  {
   "cell_type": "markdown",
   "id": "82c6446d",
   "metadata": {},
   "source": [
    "A ideia básica é treinar um classificador utilizando cross-validation 5-folds. Vou realizar o corte em folds no .csv e dentro do loop utilizar dataloaders."
   ]
  },
  {
   "cell_type": "code",
   "execution_count": 1,
   "id": "82791a2a",
   "metadata": {},
   "outputs": [],
   "source": [
    "import torch\n",
    "import pandas as pd\n",
    "import os\n",
    "import imageio as im\n",
    "import matplotlib.pyplot as plt\n",
    "from torch.utils.data import Dataset,DataLoader\n",
    "from torchvision import transforms,utils\n",
    "import torchvision\n",
    "import numpy as np\n",
    "import time\n",
    "import copy\n",
    "from torchvision import models\n",
    "import torch.nn as nn\n",
    "import torch.optim as optim\n",
    "from torch.optim import lr_scheduler\n",
    "\n",
    "from sklearn.model_selection import KFold"
   ]
  },
  {
   "cell_type": "code",
   "execution_count": 2,
   "id": "14e27b57",
   "metadata": {},
   "outputs": [
    {
     "name": "stdout",
     "output_type": "stream",
     "text": [
      "/store/vrusso/skin-tone-research/simple_cnn_classifier\n",
      "/opt/conda/lib/python38.zip\n",
      "/opt/conda/lib/python3.8\n",
      "/opt/conda/lib/python3.8/lib-dynload\n",
      "\n",
      "/opt/conda/lib/python3.8/site-packages\n",
      "/store/vrusso/skin-tone-research/tools\n"
     ]
    }
   ],
   "source": [
    "import sys\n",
    "\n",
    "sys.path.append('/store/vrusso/skin-tone-research/tools')\n",
    "for p in sys.path:\n",
    "    print( p )\n",
    "    \n",
    "from fitzpatrick17k import FitzpatrickDataset"
   ]
  },
  {
   "cell_type": "code",
   "execution_count": 3,
   "id": "2856636f",
   "metadata": {},
   "outputs": [
    {
     "data": {
      "text/html": [
       "<div>\n",
       "<style scoped>\n",
       "    .dataframe tbody tr th:only-of-type {\n",
       "        vertical-align: middle;\n",
       "    }\n",
       "\n",
       "    .dataframe tbody tr th {\n",
       "        vertical-align: top;\n",
       "    }\n",
       "\n",
       "    .dataframe thead th {\n",
       "        text-align: right;\n",
       "    }\n",
       "</style>\n",
       "<table border=\"1\" class=\"dataframe\">\n",
       "  <thead>\n",
       "    <tr style=\"text-align: right;\">\n",
       "      <th></th>\n",
       "      <th>md5hash</th>\n",
       "      <th>fitzpatrick</th>\n",
       "      <th>label</th>\n",
       "      <th>nine_partition_label</th>\n",
       "      <th>three_partition_label</th>\n",
       "      <th>url</th>\n",
       "      <th>url_alphanum</th>\n",
       "    </tr>\n",
       "  </thead>\n",
       "  <tbody>\n",
       "    <tr>\n",
       "      <th>0</th>\n",
       "      <td>aa4f94e33bbc118e2a95f7a8ad0344a1</td>\n",
       "      <td>2</td>\n",
       "      <td>folliculitis</td>\n",
       "      <td>inflammatory</td>\n",
       "      <td>non-neoplastic</td>\n",
       "      <td>https://www.dermaamin.com/site/images/clinical...</td>\n",
       "      <td>httpwwwdermaamincomsiteimagesclinicalpicffolli...</td>\n",
       "    </tr>\n",
       "    <tr>\n",
       "      <th>1</th>\n",
       "      <td>b500453ca3910a06c8ff290dd7e3efa0</td>\n",
       "      <td>1</td>\n",
       "      <td>factitial dermatitis</td>\n",
       "      <td>inflammatory</td>\n",
       "      <td>non-neoplastic</td>\n",
       "      <td>https://www.dermaamin.com/site/images/clinical...</td>\n",
       "      <td>httpwwwdermaamincomsiteimagesclinicalpicffacti...</td>\n",
       "    </tr>\n",
       "    <tr>\n",
       "      <th>2</th>\n",
       "      <td>c7cd549009d2ea6752de4fc4c2c02bc2</td>\n",
       "      <td>2</td>\n",
       "      <td>folliculitis</td>\n",
       "      <td>inflammatory</td>\n",
       "      <td>non-neoplastic</td>\n",
       "      <td>http://atlasdermatologico.com.br/img?imageId=6170</td>\n",
       "      <td>httpwwwatlasdermatologicocombrimgimageId6170.jpg</td>\n",
       "    </tr>\n",
       "    <tr>\n",
       "      <th>3</th>\n",
       "      <td>c2700df0d707be983aa18fb467c842fe</td>\n",
       "      <td>-1</td>\n",
       "      <td>scabies</td>\n",
       "      <td>inflammatory</td>\n",
       "      <td>non-neoplastic</td>\n",
       "      <td>https://www.dermaamin.com/site/images/clinical...</td>\n",
       "      <td>httpwwwdermaamincomsiteimagesclinicalpicnnorwe...</td>\n",
       "    </tr>\n",
       "    <tr>\n",
       "      <th>4</th>\n",
       "      <td>ce925bdb440a53105f4fc46647c8fa7c</td>\n",
       "      <td>4</td>\n",
       "      <td>erythema multiforme</td>\n",
       "      <td>inflammatory</td>\n",
       "      <td>non-neoplastic</td>\n",
       "      <td>https://www.dermaamin.com/site/images/clinical...</td>\n",
       "      <td>httpwwwdermaamincomsiteimagesclinicalpiceeryth...</td>\n",
       "    </tr>\n",
       "    <tr>\n",
       "      <th>...</th>\n",
       "      <td>...</td>\n",
       "      <td>...</td>\n",
       "      <td>...</td>\n",
       "      <td>...</td>\n",
       "      <td>...</td>\n",
       "      <td>...</td>\n",
       "      <td>...</td>\n",
       "    </tr>\n",
       "    <tr>\n",
       "      <th>14867</th>\n",
       "      <td>4c68f5b525f27790c42facbbda3abf5f</td>\n",
       "      <td>4</td>\n",
       "      <td>ehlers danlos syndrome</td>\n",
       "      <td>genodermatoses</td>\n",
       "      <td>non-neoplastic</td>\n",
       "      <td>http://atlasdermatologico.com.br/img?imageId=1608</td>\n",
       "      <td>httpwwwatlasdermatologicocombrimgimageId1608.jpg</td>\n",
       "    </tr>\n",
       "    <tr>\n",
       "      <th>14868</th>\n",
       "      <td>d34824713baf81e9ec104e6c1d8b9791</td>\n",
       "      <td>2</td>\n",
       "      <td>psoriasis</td>\n",
       "      <td>inflammatory</td>\n",
       "      <td>non-neoplastic</td>\n",
       "      <td>https://www.dermaamin.com/site/images/clinical...</td>\n",
       "      <td>httpwwwdermaamincomsiteimagesclinicalpicppsori...</td>\n",
       "    </tr>\n",
       "    <tr>\n",
       "      <th>14869</th>\n",
       "      <td>4722319c4ebf0e09971017c04d7393fc</td>\n",
       "      <td>-1</td>\n",
       "      <td>tungiasis</td>\n",
       "      <td>inflammatory</td>\n",
       "      <td>non-neoplastic</td>\n",
       "      <td>http://atlasdermatologico.com.br/img?imageId=7686</td>\n",
       "      <td>httpwwwatlasdermatologicocombrimgimageId7686.jpg</td>\n",
       "    </tr>\n",
       "    <tr>\n",
       "      <th>14870</th>\n",
       "      <td>f38ef800ff2e091ad6af7e233c0afa29</td>\n",
       "      <td>2</td>\n",
       "      <td>urticaria pigmentosa</td>\n",
       "      <td>inflammatory</td>\n",
       "      <td>non-neoplastic</td>\n",
       "      <td>https://www.dermaamin.com/site/images/clinical...</td>\n",
       "      <td>httpwwwdermaamincomsiteimagesclinicalpicuurtic...</td>\n",
       "    </tr>\n",
       "    <tr>\n",
       "      <th>14871</th>\n",
       "      <td>e3dba8c3820d5566b75322f757bf16cb</td>\n",
       "      <td>4</td>\n",
       "      <td>neurofibromatosis</td>\n",
       "      <td>genodermatoses</td>\n",
       "      <td>non-neoplastic</td>\n",
       "      <td>http://atlasdermatologico.com.br/img?imageId=4777</td>\n",
       "      <td>httpwwwatlasdermatologicocombrimgimageId4777.jpg</td>\n",
       "    </tr>\n",
       "  </tbody>\n",
       "</table>\n",
       "<p>14872 rows × 7 columns</p>\n",
       "</div>"
      ],
      "text/plain": [
       "                                md5hash  fitzpatrick                   label  \\\n",
       "0      aa4f94e33bbc118e2a95f7a8ad0344a1            2            folliculitis   \n",
       "1      b500453ca3910a06c8ff290dd7e3efa0            1    factitial dermatitis   \n",
       "2      c7cd549009d2ea6752de4fc4c2c02bc2            2            folliculitis   \n",
       "3      c2700df0d707be983aa18fb467c842fe           -1                 scabies   \n",
       "4      ce925bdb440a53105f4fc46647c8fa7c            4     erythema multiforme   \n",
       "...                                 ...          ...                     ...   \n",
       "14867  4c68f5b525f27790c42facbbda3abf5f            4  ehlers danlos syndrome   \n",
       "14868  d34824713baf81e9ec104e6c1d8b9791            2               psoriasis   \n",
       "14869  4722319c4ebf0e09971017c04d7393fc           -1               tungiasis   \n",
       "14870  f38ef800ff2e091ad6af7e233c0afa29            2    urticaria pigmentosa   \n",
       "14871  e3dba8c3820d5566b75322f757bf16cb            4       neurofibromatosis   \n",
       "\n",
       "      nine_partition_label three_partition_label  \\\n",
       "0             inflammatory        non-neoplastic   \n",
       "1             inflammatory        non-neoplastic   \n",
       "2             inflammatory        non-neoplastic   \n",
       "3             inflammatory        non-neoplastic   \n",
       "4             inflammatory        non-neoplastic   \n",
       "...                    ...                   ...   \n",
       "14867       genodermatoses        non-neoplastic   \n",
       "14868         inflammatory        non-neoplastic   \n",
       "14869         inflammatory        non-neoplastic   \n",
       "14870         inflammatory        non-neoplastic   \n",
       "14871       genodermatoses        non-neoplastic   \n",
       "\n",
       "                                                     url  \\\n",
       "0      https://www.dermaamin.com/site/images/clinical...   \n",
       "1      https://www.dermaamin.com/site/images/clinical...   \n",
       "2      http://atlasdermatologico.com.br/img?imageId=6170   \n",
       "3      https://www.dermaamin.com/site/images/clinical...   \n",
       "4      https://www.dermaamin.com/site/images/clinical...   \n",
       "...                                                  ...   \n",
       "14867  http://atlasdermatologico.com.br/img?imageId=1608   \n",
       "14868  https://www.dermaamin.com/site/images/clinical...   \n",
       "14869  http://atlasdermatologico.com.br/img?imageId=7686   \n",
       "14870  https://www.dermaamin.com/site/images/clinical...   \n",
       "14871  http://atlasdermatologico.com.br/img?imageId=4777   \n",
       "\n",
       "                                            url_alphanum  \n",
       "0      httpwwwdermaamincomsiteimagesclinicalpicffolli...  \n",
       "1      httpwwwdermaamincomsiteimagesclinicalpicffacti...  \n",
       "2       httpwwwatlasdermatologicocombrimgimageId6170.jpg  \n",
       "3      httpwwwdermaamincomsiteimagesclinicalpicnnorwe...  \n",
       "4      httpwwwdermaamincomsiteimagesclinicalpiceeryth...  \n",
       "...                                                  ...  \n",
       "14867   httpwwwatlasdermatologicocombrimgimageId1608.jpg  \n",
       "14868  httpwwwdermaamincomsiteimagesclinicalpicppsori...  \n",
       "14869   httpwwwatlasdermatologicocombrimgimageId7686.jpg  \n",
       "14870  httpwwwdermaamincomsiteimagesclinicalpicuurtic...  \n",
       "14871   httpwwwatlasdermatologicocombrimgimageId4777.jpg  \n",
       "\n",
       "[14872 rows x 7 columns]"
      ]
     },
     "execution_count": 3,
     "metadata": {},
     "output_type": "execute_result"
    }
   ],
   "source": [
    "df = pd.read_csv('../../datasets/fitzpatrick17k/fitzpatrick17k_train.csv')\n",
    "\n",
    "df"
   ]
  },
  {
   "cell_type": "code",
   "execution_count": 4,
   "id": "adcf7e1d",
   "metadata": {},
   "outputs": [
    {
     "name": "stdout",
     "output_type": "stream",
     "text": [
      "Número de instâncias com -1 no label:503\n",
      "Dropando estas instâncias...\n"
     ]
    },
    {
     "data": {
      "text/html": [
       "<div>\n",
       "<style scoped>\n",
       "    .dataframe tbody tr th:only-of-type {\n",
       "        vertical-align: middle;\n",
       "    }\n",
       "\n",
       "    .dataframe tbody tr th {\n",
       "        vertical-align: top;\n",
       "    }\n",
       "\n",
       "    .dataframe thead th {\n",
       "        text-align: right;\n",
       "    }\n",
       "</style>\n",
       "<table border=\"1\" class=\"dataframe\">\n",
       "  <thead>\n",
       "    <tr style=\"text-align: right;\">\n",
       "      <th></th>\n",
       "      <th>md5hash</th>\n",
       "      <th>fitzpatrick</th>\n",
       "      <th>label</th>\n",
       "      <th>nine_partition_label</th>\n",
       "      <th>three_partition_label</th>\n",
       "      <th>url</th>\n",
       "      <th>url_alphanum</th>\n",
       "    </tr>\n",
       "  </thead>\n",
       "  <tbody>\n",
       "    <tr>\n",
       "      <th>0</th>\n",
       "      <td>aa4f94e33bbc118e2a95f7a8ad0344a1</td>\n",
       "      <td>2</td>\n",
       "      <td>folliculitis</td>\n",
       "      <td>inflammatory</td>\n",
       "      <td>non-neoplastic</td>\n",
       "      <td>https://www.dermaamin.com/site/images/clinical...</td>\n",
       "      <td>httpwwwdermaamincomsiteimagesclinicalpicffolli...</td>\n",
       "    </tr>\n",
       "    <tr>\n",
       "      <th>1</th>\n",
       "      <td>b500453ca3910a06c8ff290dd7e3efa0</td>\n",
       "      <td>1</td>\n",
       "      <td>factitial dermatitis</td>\n",
       "      <td>inflammatory</td>\n",
       "      <td>non-neoplastic</td>\n",
       "      <td>https://www.dermaamin.com/site/images/clinical...</td>\n",
       "      <td>httpwwwdermaamincomsiteimagesclinicalpicffacti...</td>\n",
       "    </tr>\n",
       "    <tr>\n",
       "      <th>2</th>\n",
       "      <td>c7cd549009d2ea6752de4fc4c2c02bc2</td>\n",
       "      <td>2</td>\n",
       "      <td>folliculitis</td>\n",
       "      <td>inflammatory</td>\n",
       "      <td>non-neoplastic</td>\n",
       "      <td>http://atlasdermatologico.com.br/img?imageId=6170</td>\n",
       "      <td>httpwwwatlasdermatologicocombrimgimageId6170.jpg</td>\n",
       "    </tr>\n",
       "    <tr>\n",
       "      <th>4</th>\n",
       "      <td>ce925bdb440a53105f4fc46647c8fa7c</td>\n",
       "      <td>4</td>\n",
       "      <td>erythema multiforme</td>\n",
       "      <td>inflammatory</td>\n",
       "      <td>non-neoplastic</td>\n",
       "      <td>https://www.dermaamin.com/site/images/clinical...</td>\n",
       "      <td>httpwwwdermaamincomsiteimagesclinicalpiceeryth...</td>\n",
       "    </tr>\n",
       "    <tr>\n",
       "      <th>5</th>\n",
       "      <td>15447b78321c1555992bccdb9a6aa54c</td>\n",
       "      <td>5</td>\n",
       "      <td>squamous cell carcinoma</td>\n",
       "      <td>malignant epidermal</td>\n",
       "      <td>malignant</td>\n",
       "      <td>https://www.dermaamin.com/site/images/clinical...</td>\n",
       "      <td>httpwwwdermaamincomsiteimagesclinicalpicssquam...</td>\n",
       "    </tr>\n",
       "  </tbody>\n",
       "</table>\n",
       "</div>"
      ],
      "text/plain": [
       "                            md5hash  fitzpatrick                    label  \\\n",
       "0  aa4f94e33bbc118e2a95f7a8ad0344a1            2             folliculitis   \n",
       "1  b500453ca3910a06c8ff290dd7e3efa0            1     factitial dermatitis   \n",
       "2  c7cd549009d2ea6752de4fc4c2c02bc2            2             folliculitis   \n",
       "4  ce925bdb440a53105f4fc46647c8fa7c            4      erythema multiforme   \n",
       "5  15447b78321c1555992bccdb9a6aa54c            5  squamous cell carcinoma   \n",
       "\n",
       "  nine_partition_label three_partition_label  \\\n",
       "0         inflammatory        non-neoplastic   \n",
       "1         inflammatory        non-neoplastic   \n",
       "2         inflammatory        non-neoplastic   \n",
       "4         inflammatory        non-neoplastic   \n",
       "5  malignant epidermal             malignant   \n",
       "\n",
       "                                                 url  \\\n",
       "0  https://www.dermaamin.com/site/images/clinical...   \n",
       "1  https://www.dermaamin.com/site/images/clinical...   \n",
       "2  http://atlasdermatologico.com.br/img?imageId=6170   \n",
       "4  https://www.dermaamin.com/site/images/clinical...   \n",
       "5  https://www.dermaamin.com/site/images/clinical...   \n",
       "\n",
       "                                        url_alphanum  \n",
       "0  httpwwwdermaamincomsiteimagesclinicalpicffolli...  \n",
       "1  httpwwwdermaamincomsiteimagesclinicalpicffacti...  \n",
       "2   httpwwwatlasdermatologicocombrimgimageId6170.jpg  \n",
       "4  httpwwwdermaamincomsiteimagesclinicalpiceeryth...  \n",
       "5  httpwwwdermaamincomsiteimagesclinicalpicssquam...  "
      ]
     },
     "execution_count": 4,
     "metadata": {},
     "output_type": "execute_result"
    }
   ],
   "source": [
    "print(\"Número de instâncias com -1 no label:\"+str(len(df[df['fitzpatrick']== -1])))\n",
    "print(\"Dropando estas instâncias...\")\n",
    "df = df.drop(df[df['fitzpatrick']== -1].index,axis=0)\n",
    "df.head()"
   ]
  },
  {
   "cell_type": "code",
   "execution_count": 5,
   "id": "cc3e2801",
   "metadata": {},
   "outputs": [
    {
     "data": {
      "text/plain": [
       "14369"
      ]
     },
     "execution_count": 5,
     "metadata": {},
     "output_type": "execute_result"
    }
   ],
   "source": [
    "len(df)"
   ]
  },
  {
   "cell_type": "code",
   "execution_count": 6,
   "id": "7c0d8b30",
   "metadata": {},
   "outputs": [
    {
     "data": {
      "text/plain": [
       "KFold(n_splits=5, random_state=19, shuffle=True)"
      ]
     },
     "execution_count": 6,
     "metadata": {},
     "output_type": "execute_result"
    }
   ],
   "source": [
    "kf = KFold(n_splits=5, shuffle=True, random_state=19 )\n",
    "kf"
   ]
  },
  {
   "cell_type": "code",
   "execution_count": 7,
   "id": "2956c926",
   "metadata": {},
   "outputs": [],
   "source": [
    "import pytorch_lightning as pl"
   ]
  },
  {
   "cell_type": "code",
   "execution_count": 8,
   "id": "9d371cc9",
   "metadata": {},
   "outputs": [],
   "source": [
    "n_classes = 6\n",
    "import torch.nn.functional as F\n",
    "from sklearn.metrics import balanced_accuracy_score\n",
    "\n",
    "class LitClassificationModel(pl.LightningModule):\n",
    "    \n",
    "    def __init__(self, df_train, df_test):\n",
    "        super().__init__()\n",
    "        self.df_train = df_train\n",
    "        self.df_test = df_test\n",
    "        self.train_loss_history = []\n",
    "        self.train_acc_history = []\n",
    "        self.train_acc_relaxed_history = []\n",
    "        self.train_balanced_acc_history = []\n",
    "        \n",
    "        self.real_class = torch.zeros(len(df_train))\n",
    "        self.pred_class = torch.zeros(len(df_train))\n",
    "        print(len(df_train))\n",
    "        \n",
    "        self.test_loss_history = []\n",
    "        self.test_acc_history = []\n",
    "        self.test_acc_relaxed_history = []\n",
    "        self.model = models.resnet50(pretrained=True)\n",
    "        num_features_in_fc = self.model.fc.in_features\n",
    "        self.model.fc = nn.Linear(num_features_in_fc, n_classes)\n",
    "        for param in self.model.parameters():\n",
    "            param.requires_grad = True\n",
    "            \n",
    "    def forward(self,x):\n",
    "        return self.model(x)\n",
    "    \n",
    "    def configure_optimizers(self):\n",
    "        optimizer = optim.SGD(model.parameters(), lr=0.001, momentum=0.9)\n",
    "        exp_lr_scheduler = lr_scheduler.StepLR(optimizer, step_size = 1, gamma=0.1)\n",
    "        return [optimizer],[exp_lr_scheduler]\n",
    "    \n",
    "    def training_step(self,batch,batch_idx):\n",
    "        inputs = batch['image']\n",
    "        labels = batch['label']\n",
    "        outputs = self(inputs)\n",
    "        \n",
    "        _, preds = torch.max(outputs,1)\n",
    "        labels = torch.argmax(labels,axis=1)\n",
    "        \n",
    "        self.real_class[batch_idx*64:(batch_idx+1)*64] = labels\n",
    "        self.pred_class[batch_idx*64:(batch_idx+1)*64] = preds\n",
    "        \n",
    "        \n",
    "        loss = F.cross_entropy(outputs,labels.long())\n",
    "        running_corrects = torch.sum(preds == labels)\n",
    "        \n",
    "        relaxed_running_hits = torch.sum(preds == labels) + torch.sum(preds == labels+1)+torch.sum(preds == labels-1)\n",
    "        \n",
    "        return {'loss':loss, 'hits':running_corrects,'relaxed_hits':relaxed_running_hits}\n",
    "    \n",
    "    def training_epoch_end(self,outputs):\n",
    "        avg_loss = torch.stack([x['loss'] for x in outputs]).mean()\n",
    "        num_hits = torch.stack([x['hits'] for x in outputs]).sum()\n",
    "        relaxed_hits = torch.stack([x['relaxed_hits'] for x in outputs]).sum()\n",
    "        self.train_loss_history.append(avg_loss.item())\n",
    "        self.train_acc_history.append(num_hits.item())\n",
    "        self.train_acc_relaxed_history.append(relaxed_hits.item())\n",
    "        self.train_balanced_acc_history.append(balanced_accuracy_score(self.real_class,self.pred_class))\n",
    "        return None\n",
    "    \n",
    "    def validation_step(self,batch,batch_idx):\n",
    "        inputs = batch['image']\n",
    "        labels = batch['label']\n",
    "        outputs = self(inputs)\n",
    "        \n",
    "        \n",
    "        __, preds = torch.max(outputs,1)\n",
    "        \n",
    "        labels = torch.argmax(labels,axis=1)\n",
    "        loss = F.cross_entropy(outputs,labels.long())\n",
    "        running_corrects = torch.sum(preds == labels)\n",
    "        \n",
    "        relaxed_running_hits = torch.sum(preds == labels) + torch.sum(preds == labels+1)+torch.sum(preds == labels-1)\n",
    "        \n",
    "        return {'loss':loss, 'hits':running_corrects,'relaxed_hits':relaxed_running_hits}\n",
    "    \n",
    "    def validation_epoch_end(self,outputs):\n",
    "        avg_loss = torch.stack([x['loss'] for x in outputs]).mean()\n",
    "        num_hits = torch.stack([x['hits'] for x in outputs]).sum()\n",
    "        relaxed_hits = torch.stack([x['relaxed_hits'] for x in outputs]).sum()\n",
    "        self.test_loss_history.append(avg_loss.item())\n",
    "        self.test_acc_history.append(num_hits.item())\n",
    "        self.test_acc_relaxed_history.append(relaxed_hits.item())\n",
    "        \n",
    "        return None\n",
    "    \n",
    "    def train_dataloader(self):\n",
    "        data_train = FitzpatrickDataset( self.df_train,'../../datasets/fitzpatrick17k/resized_images', target = 'fitzpatrick',\n",
    "                          transform = transforms.Compose([transforms.ToTensor(),\n",
    "                                                          transforms.RandomResizedCrop(224),\n",
    "                                                          transforms.RandomHorizontalFlip(),\n",
    "                                                          transforms.Normalize([0.485,0.456,0.406],[0.229,0.224,0.225])]))\n",
    "    \n",
    "        train_dataloader = DataLoader(data_train,batch_size=64,num_workers=8,shuffle=True)\n",
    "        \n",
    "        return train_dataloader\n",
    "    \n",
    "    def val_dataloader(self):\n",
    "        data_val = FitzpatrickDataset( self.df_test,'../../datasets/fitzpatrick17k/resized_images', target = 'fitzpatrick',\n",
    "                          transform = transforms.Compose([transforms.ToTensor(),\n",
    "                                                          transforms.CenterCrop(224),\n",
    "                                                          transforms.Normalize([0.485,0.456,0.406],[0.229,0.224,0.225])]))\n",
    "    \n",
    "        val_dataloader = DataLoader(data_val,batch_size=64,num_workers=8,shuffle=False)\n",
    "    \n",
    "        return val_dataloader"
   ]
  },
  {
   "cell_type": "code",
   "execution_count": null,
   "id": "26feba34",
   "metadata": {},
   "outputs": [
    {
     "name": "stdout",
     "output_type": "stream",
     "text": [
      "11495\n"
     ]
    },
    {
     "name": "stderr",
     "output_type": "stream",
     "text": [
      "GPU available: True, used: True\n",
      "TPU available: False, using: 0 TPU cores\n",
      "IPU available: False, using: 0 IPUs\n",
      "LOCAL_RANK: 0 - CUDA_VISIBLE_DEVICES: [0]\n",
      "\n",
      "  | Name  | Type   | Params\n",
      "---------------------------------\n",
      "0 | model | ResNet | 23.5 M\n",
      "---------------------------------\n",
      "23.5 M    Trainable params\n",
      "0         Non-trainable params\n",
      "23.5 M    Total params\n",
      "94.081    Total estimated model params size (MB)\n"
     ]
    },
    {
     "data": {
      "application/vnd.jupyter.widget-view+json": {
       "model_id": "",
       "version_major": 2,
       "version_minor": 0
      },
      "text/plain": [
       "HBox(children=(HTML(value='Validation sanity check'), FloatProgress(value=1.0, bar_style='info', layout=Layout…"
      ]
     },
     "metadata": {},
     "output_type": "display_data"
    },
    {
     "data": {
      "application/vnd.jupyter.widget-view+json": {
       "model_id": "400e6e36fdb44ccd9990bdd4ec09dcf4",
       "version_major": 2,
       "version_minor": 0
      },
      "text/plain": [
       "HBox(children=(HTML(value='Training'), FloatProgress(value=1.0, bar_style='info', layout=Layout(flex='2'), max…"
      ]
     },
     "metadata": {},
     "output_type": "display_data"
    },
    {
     "data": {
      "application/vnd.jupyter.widget-view+json": {
       "model_id": "",
       "version_major": 2,
       "version_minor": 0
      },
      "text/plain": [
       "HBox(children=(HTML(value='Validating'), FloatProgress(value=1.0, bar_style='info', layout=Layout(flex='2'), m…"
      ]
     },
     "metadata": {},
     "output_type": "display_data"
    },
    {
     "data": {
      "application/vnd.jupyter.widget-view+json": {
       "model_id": "",
       "version_major": 2,
       "version_minor": 0
      },
      "text/plain": [
       "HBox(children=(HTML(value='Validating'), FloatProgress(value=1.0, bar_style='info', layout=Layout(flex='2'), m…"
      ]
     },
     "metadata": {},
     "output_type": "display_data"
    },
    {
     "data": {
      "application/vnd.jupyter.widget-view+json": {
       "model_id": "",
       "version_major": 2,
       "version_minor": 0
      },
      "text/plain": [
       "HBox(children=(HTML(value='Validating'), FloatProgress(value=1.0, bar_style='info', layout=Layout(flex='2'), m…"
      ]
     },
     "metadata": {},
     "output_type": "display_data"
    },
    {
     "data": {
      "application/vnd.jupyter.widget-view+json": {
       "model_id": "",
       "version_major": 2,
       "version_minor": 0
      },
      "text/plain": [
       "HBox(children=(HTML(value='Validating'), FloatProgress(value=1.0, bar_style='info', layout=Layout(flex='2'), m…"
      ]
     },
     "metadata": {},
     "output_type": "display_data"
    },
    {
     "data": {
      "application/vnd.jupyter.widget-view+json": {
       "model_id": "33c3aa528363435f98e009bef6c74a1e",
       "version_major": 2,
       "version_minor": 0
      },
      "text/plain": [
       "HBox(children=(HTML(value='Validating'), FloatProgress(value=1.0, bar_style='info', layout=Layout(flex='2'), m…"
      ]
     },
     "metadata": {},
     "output_type": "display_data"
    }
   ],
   "source": [
    "from pytorch_lightning import Trainer\n",
    "\n",
    "for train_index, test_index in kf.split(df):\n",
    "    df_train = df.iloc[train_index]\n",
    "    df_test = df.iloc[test_index]\n",
    "    \n",
    "    \n",
    "    model = LitClassificationModel(df_train,df_test)\n",
    "    \n",
    "    #trainer = Trainer(fast_dev_run=True)\n",
    "    trainer = Trainer(max_epochs=5,accelerator='gpu',gpus=1)\n",
    "    \n",
    "    \n",
    "    trainer.fit(model)\n",
    "    \n",
    "    \n",
    "    print(model.train_balanced_acc_history)\n",
    "    break\n",
    "    \n",
    "    \n",
    "    "
   ]
  },
  {
   "cell_type": "code",
   "execution_count": 10,
   "id": "02d37eeb",
   "metadata": {},
   "outputs": [
    {
     "name": "stdout",
     "output_type": "stream",
     "text": [
      "[21, 1265]\n"
     ]
    },
    {
     "data": {
      "text/plain": [
       "[<matplotlib.lines.Line2D at 0x7fec008e27c0>]"
      ]
     },
     "execution_count": 10,
     "metadata": {},
     "output_type": "execute_result"
    },
    {
     "data": {
      "image/png": "[encoded data removed]",
      "text/plain": [
       "<Figure size 432x288 with 1 Axes>"
      ]
     },
     "metadata": {
      "needs_background": "light"
     },
     "output_type": "display_data"
    }
   ],
   "source": [
    "print(model.test_acc_history)\n",
    "plt.plot(model.test_acc_history)"
   ]
  },
  {
   "cell_type": "code",
   "execution_count": 12,
   "id": "0848e072",
   "metadata": {},
   "outputs": [
    {
     "name": "stdout",
     "output_type": "stream",
     "text": [
      "[50, 2523]\n"
     ]
    },
    {
     "data": {
      "text/plain": [
       "[<matplotlib.lines.Line2D at 0x7febfe6aa6a0>]"
      ]
     },
     "execution_count": 12,
     "metadata": {},
     "output_type": "execute_result"
    },
    {
     "data": {
      "image/png": "[encoded data removed]",
      "text/plain": [
       "<Figure size 432x288 with 1 Axes>"
      ]
     },
     "metadata": {
      "needs_background": "light"
     },
     "output_type": "display_data"
    }
   ],
   "source": [
    "print(model.test_acc_relaxed_history)\n",
    "plt.plot(model.test_acc_relaxed_history)"
   ]
  },
  {
   "cell_type": "code",
   "execution_count": 13,
   "id": "c9b82163",
   "metadata": {},
   "outputs": [
    {
     "data": {
      "text/plain": [
       "2874"
      ]
     },
     "execution_count": 13,
     "metadata": {},
     "output_type": "execute_result"
    }
   ],
   "source": [
    "len(df_test)"
   ]
  }
 ],
 "metadata": {
  "kernelspec": {
   "display_name": "Python 3 (ipykernel)",
   "language": "python",
   "name": "python3"
  },
  "language_info": {
   "codemirror_mode": {
    "name": "ipython",
    "version": 3
   },
   "file_extension": ".py",
   "mimetype": "text/x-python",
   "name": "python",
   "nbconvert_exporter": "python",
   "pygments_lexer": "ipython3",
   "version": "3.8.8"
  }
 },
 "nbformat": 4,
 "nbformat_minor": 5
}
