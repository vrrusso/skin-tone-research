{
 "cells": [
  {
   "cell_type": "markdown",
   "id": "82c6446d",
   "metadata": {},
   "source": [
    "A ideia básica é treinar um classificador utilizando cross-validation 5-folds. Vou realizar o corte em folds no .csv e dentro do loop utilizar dataloaders."
   ]
  },
  {
   "cell_type": "code",
   "execution_count": 1,
   "id": "82791a2a",
   "metadata": {},
   "outputs": [],
   "source": [
    "import torch\n",
    "import pandas as pd\n",
    "import os\n",
    "import imageio as im\n",
    "import matplotlib.pyplot as plt\n",
    "from torch.utils.data import Dataset,DataLoader\n",
    "from torchvision import transforms,utils\n",
    "import torchvision\n",
    "import numpy as np\n",
    "import time\n",
    "import copy\n",
    "from torchvision import models\n",
    "import torch.nn as nn\n",
    "import torch.optim as optim\n",
    "from torch.optim import lr_scheduler\n",
    "\n",
    "from sklearn.model_selection import KFold"
   ]
  },
  {
   "cell_type": "code",
   "execution_count": 2,
   "id": "14e27b57",
   "metadata": {},
   "outputs": [
    {
     "name": "stdout",
     "output_type": "stream",
     "text": [
      "/store/vrusso/skin-tone-research/simple_cnn_classifier\n",
      "/opt/conda/lib/python38.zip\n",
      "/opt/conda/lib/python3.8\n",
      "/opt/conda/lib/python3.8/lib-dynload\n",
      "\n",
      "/opt/conda/lib/python3.8/site-packages\n",
      "/store/vrusso/skin-tone-research/tools\n"
     ]
    }
   ],
   "source": [
    "import sys\n",
    "\n",
    "sys.path.append('/store/vrusso/skin-tone-research/tools')\n",
    "for p in sys.path:\n",
    "    print( p )\n",
    "    \n",
    "from fitzpatrick17k import FitzpatrickDataset"
   ]
  },
  {
   "cell_type": "code",
   "execution_count": 3,
   "id": "2856636f",
   "metadata": {},
   "outputs": [
    {
     "data": {
      "text/html": [
       "<div>\n",
       "<style scoped>\n",
       "    .dataframe tbody tr th:only-of-type {\n",
       "        vertical-align: middle;\n",
       "    }\n",
       "\n",
       "    .dataframe tbody tr th {\n",
       "        vertical-align: top;\n",
       "    }\n",
       "\n",
       "    .dataframe thead th {\n",
       "        text-align: right;\n",
       "    }\n",
       "</style>\n",
       "<table border=\"1\" class=\"dataframe\">\n",
       "  <thead>\n",
       "    <tr style=\"text-align: right;\">\n",
       "      <th></th>\n",
       "      <th>md5hash</th>\n",
       "      <th>fitzpatrick</th>\n",
       "      <th>label</th>\n",
       "      <th>nine_partition_label</th>\n",
       "      <th>three_partition_label</th>\n",
       "      <th>url</th>\n",
       "      <th>url_alphanum</th>\n",
       "    </tr>\n",
       "  </thead>\n",
       "  <tbody>\n",
       "    <tr>\n",
       "      <th>0</th>\n",
       "      <td>dae2d6176ea28b4d991c573c8320b0cf</td>\n",
       "      <td>4</td>\n",
       "      <td>lichen planus</td>\n",
       "      <td>inflammatory</td>\n",
       "      <td>non-neoplastic</td>\n",
       "      <td>http://atlasdermatologico.com.br/img?imageId=3739</td>\n",
       "      <td>httpwwwatlasdermatologicocombrimgimageId3739.jpg</td>\n",
       "    </tr>\n",
       "    <tr>\n",
       "      <th>1</th>\n",
       "      <td>dcba3efe0fe28be2b0032df9470c320d</td>\n",
       "      <td>5</td>\n",
       "      <td>behcets disease</td>\n",
       "      <td>inflammatory</td>\n",
       "      <td>non-neoplastic</td>\n",
       "      <td>http://atlasdermatologico.com.br/img?imageId=8633</td>\n",
       "      <td>httpwwwatlasdermatologicocombrimgimageId8633.jpg</td>\n",
       "    </tr>\n",
       "    <tr>\n",
       "      <th>2</th>\n",
       "      <td>9a9ded2de5e2c20a90cdfc2971e2e155</td>\n",
       "      <td>2</td>\n",
       "      <td>pityriasis lichenoides chronica</td>\n",
       "      <td>inflammatory</td>\n",
       "      <td>non-neoplastic</td>\n",
       "      <td>https://www.dermaamin.com/site/images/clinical...</td>\n",
       "      <td>httpwwwdermaamincomsiteimagesclinicalpicppityr...</td>\n",
       "    </tr>\n",
       "    <tr>\n",
       "      <th>3</th>\n",
       "      <td>d6166c9947e7e99915ff4d6907ddec44</td>\n",
       "      <td>2</td>\n",
       "      <td>mycosis fungoides</td>\n",
       "      <td>malignant cutaneous lymphoma</td>\n",
       "      <td>malignant</td>\n",
       "      <td>http://atlasdermatologico.com.br/img?imageId=4594</td>\n",
       "      <td>httpwwwatlasdermatologicocombrimgimageId4594.jpg</td>\n",
       "    </tr>\n",
       "    <tr>\n",
       "      <th>4</th>\n",
       "      <td>8ea58508e89d61a98320acb03139b8bb</td>\n",
       "      <td>3</td>\n",
       "      <td>urticaria pigmentosa</td>\n",
       "      <td>inflammatory</td>\n",
       "      <td>non-neoplastic</td>\n",
       "      <td>https://www.dermaamin.com/site/images/clinical...</td>\n",
       "      <td>httpwwwdermaamincomsiteimagesclinicalpicuurtic...</td>\n",
       "    </tr>\n",
       "    <tr>\n",
       "      <th>...</th>\n",
       "      <td>...</td>\n",
       "      <td>...</td>\n",
       "      <td>...</td>\n",
       "      <td>...</td>\n",
       "      <td>...</td>\n",
       "      <td>...</td>\n",
       "      <td>...</td>\n",
       "    </tr>\n",
       "    <tr>\n",
       "      <th>16520</th>\n",
       "      <td>54aa2f1bf36b27de991db5cd358bde06</td>\n",
       "      <td>2</td>\n",
       "      <td>squamous cell carcinoma</td>\n",
       "      <td>malignant epidermal</td>\n",
       "      <td>malignant</td>\n",
       "      <td>http://atlasdermatologico.com.br/img?imageId=6834</td>\n",
       "      <td>httpwwwatlasdermatologicocombrimgimageId6834.jpg</td>\n",
       "    </tr>\n",
       "    <tr>\n",
       "      <th>16521</th>\n",
       "      <td>b3ce9d9d122db072fdf3245521263c06</td>\n",
       "      <td>2</td>\n",
       "      <td>erythema multiforme</td>\n",
       "      <td>inflammatory</td>\n",
       "      <td>non-neoplastic</td>\n",
       "      <td>https://www.dermaamin.com/site/images/clinical...</td>\n",
       "      <td>httpwwwdermaamincomsiteimagesclinicalpiceeryth...</td>\n",
       "    </tr>\n",
       "    <tr>\n",
       "      <th>16522</th>\n",
       "      <td>6fcaf3c1ecef5a938bf70ae2b6ed24f6</td>\n",
       "      <td>2</td>\n",
       "      <td>basal cell carcinoma</td>\n",
       "      <td>malignant epidermal</td>\n",
       "      <td>malignant</td>\n",
       "      <td>https://www.dermaamin.com/site/images/clinical...</td>\n",
       "      <td>httpwwwdermaamincomsiteimagesclinicalpicbbasal...</td>\n",
       "    </tr>\n",
       "    <tr>\n",
       "      <th>16523</th>\n",
       "      <td>b0b5f5950d2fda0eed8304ea18eef430</td>\n",
       "      <td>4</td>\n",
       "      <td>actinic keratosis</td>\n",
       "      <td>malignant epidermal</td>\n",
       "      <td>malignant</td>\n",
       "      <td>http://atlasdermatologico.com.br/img?imageId=3067</td>\n",
       "      <td>httpwwwatlasdermatologicocombrimgimageId3067.jpg</td>\n",
       "    </tr>\n",
       "    <tr>\n",
       "      <th>16524</th>\n",
       "      <td>5a4d3c91ef562f605763f2630441f495</td>\n",
       "      <td>1</td>\n",
       "      <td>sarcoidosis</td>\n",
       "      <td>inflammatory</td>\n",
       "      <td>non-neoplastic</td>\n",
       "      <td>https://www.dermaamin.com/site/images/clinical...</td>\n",
       "      <td>httpwwwdermaamincomsiteimagesclinicalpicddisco...</td>\n",
       "    </tr>\n",
       "  </tbody>\n",
       "</table>\n",
       "<p>16525 rows × 7 columns</p>\n",
       "</div>"
      ],
      "text/plain": [
       "                                md5hash  fitzpatrick  \\\n",
       "0      dae2d6176ea28b4d991c573c8320b0cf            4   \n",
       "1      dcba3efe0fe28be2b0032df9470c320d            5   \n",
       "2      9a9ded2de5e2c20a90cdfc2971e2e155            2   \n",
       "3      d6166c9947e7e99915ff4d6907ddec44            2   \n",
       "4      8ea58508e89d61a98320acb03139b8bb            3   \n",
       "...                                 ...          ...   \n",
       "16520  54aa2f1bf36b27de991db5cd358bde06            2   \n",
       "16521  b3ce9d9d122db072fdf3245521263c06            2   \n",
       "16522  6fcaf3c1ecef5a938bf70ae2b6ed24f6            2   \n",
       "16523  b0b5f5950d2fda0eed8304ea18eef430            4   \n",
       "16524  5a4d3c91ef562f605763f2630441f495            1   \n",
       "\n",
       "                                 label          nine_partition_label  \\\n",
       "0                        lichen planus                  inflammatory   \n",
       "1                      behcets disease                  inflammatory   \n",
       "2      pityriasis lichenoides chronica                  inflammatory   \n",
       "3                    mycosis fungoides  malignant cutaneous lymphoma   \n",
       "4                 urticaria pigmentosa                  inflammatory   \n",
       "...                                ...                           ...   \n",
       "16520          squamous cell carcinoma           malignant epidermal   \n",
       "16521              erythema multiforme                  inflammatory   \n",
       "16522             basal cell carcinoma           malignant epidermal   \n",
       "16523                actinic keratosis           malignant epidermal   \n",
       "16524                      sarcoidosis                  inflammatory   \n",
       "\n",
       "      three_partition_label  \\\n",
       "0            non-neoplastic   \n",
       "1            non-neoplastic   \n",
       "2            non-neoplastic   \n",
       "3                 malignant   \n",
       "4            non-neoplastic   \n",
       "...                     ...   \n",
       "16520             malignant   \n",
       "16521        non-neoplastic   \n",
       "16522             malignant   \n",
       "16523             malignant   \n",
       "16524        non-neoplastic   \n",
       "\n",
       "                                                     url  \\\n",
       "0      http://atlasdermatologico.com.br/img?imageId=3739   \n",
       "1      http://atlasdermatologico.com.br/img?imageId=8633   \n",
       "2      https://www.dermaamin.com/site/images/clinical...   \n",
       "3      http://atlasdermatologico.com.br/img?imageId=4594   \n",
       "4      https://www.dermaamin.com/site/images/clinical...   \n",
       "...                                                  ...   \n",
       "16520  http://atlasdermatologico.com.br/img?imageId=6834   \n",
       "16521  https://www.dermaamin.com/site/images/clinical...   \n",
       "16522  https://www.dermaamin.com/site/images/clinical...   \n",
       "16523  http://atlasdermatologico.com.br/img?imageId=3067   \n",
       "16524  https://www.dermaamin.com/site/images/clinical...   \n",
       "\n",
       "                                            url_alphanum  \n",
       "0       httpwwwatlasdermatologicocombrimgimageId3739.jpg  \n",
       "1       httpwwwatlasdermatologicocombrimgimageId8633.jpg  \n",
       "2      httpwwwdermaamincomsiteimagesclinicalpicppityr...  \n",
       "3       httpwwwatlasdermatologicocombrimgimageId4594.jpg  \n",
       "4      httpwwwdermaamincomsiteimagesclinicalpicuurtic...  \n",
       "...                                                  ...  \n",
       "16520   httpwwwatlasdermatologicocombrimgimageId6834.jpg  \n",
       "16521  httpwwwdermaamincomsiteimagesclinicalpiceeryth...  \n",
       "16522  httpwwwdermaamincomsiteimagesclinicalpicbbasal...  \n",
       "16523   httpwwwatlasdermatologicocombrimgimageId3067.jpg  \n",
       "16524  httpwwwdermaamincomsiteimagesclinicalpicddisco...  \n",
       "\n",
       "[16525 rows x 7 columns]"
      ]
     },
     "execution_count": 3,
     "metadata": {},
     "output_type": "execute_result"
    }
   ],
   "source": [
    "df = pd.read_csv('../../datasets/fitzpatrick17k/fitzpatrick17k.csv')\n",
    "\n",
    "df"
   ]
  },
  {
   "cell_type": "code",
   "execution_count": 4,
   "id": "adcf7e1d",
   "metadata": {},
   "outputs": [
    {
     "name": "stdout",
     "output_type": "stream",
     "text": [
      "Número de instâncias com -1 no label:559\n",
      "Dropando estas instâncias...\n"
     ]
    },
    {
     "data": {
      "text/html": [
       "<div>\n",
       "<style scoped>\n",
       "    .dataframe tbody tr th:only-of-type {\n",
       "        vertical-align: middle;\n",
       "    }\n",
       "\n",
       "    .dataframe tbody tr th {\n",
       "        vertical-align: top;\n",
       "    }\n",
       "\n",
       "    .dataframe thead th {\n",
       "        text-align: right;\n",
       "    }\n",
       "</style>\n",
       "<table border=\"1\" class=\"dataframe\">\n",
       "  <thead>\n",
       "    <tr style=\"text-align: right;\">\n",
       "      <th></th>\n",
       "      <th>md5hash</th>\n",
       "      <th>fitzpatrick</th>\n",
       "      <th>label</th>\n",
       "      <th>nine_partition_label</th>\n",
       "      <th>three_partition_label</th>\n",
       "      <th>url</th>\n",
       "      <th>url_alphanum</th>\n",
       "    </tr>\n",
       "  </thead>\n",
       "  <tbody>\n",
       "    <tr>\n",
       "      <th>0</th>\n",
       "      <td>dae2d6176ea28b4d991c573c8320b0cf</td>\n",
       "      <td>4</td>\n",
       "      <td>lichen planus</td>\n",
       "      <td>inflammatory</td>\n",
       "      <td>non-neoplastic</td>\n",
       "      <td>http://atlasdermatologico.com.br/img?imageId=3739</td>\n",
       "      <td>httpwwwatlasdermatologicocombrimgimageId3739.jpg</td>\n",
       "    </tr>\n",
       "    <tr>\n",
       "      <th>1</th>\n",
       "      <td>dcba3efe0fe28be2b0032df9470c320d</td>\n",
       "      <td>5</td>\n",
       "      <td>behcets disease</td>\n",
       "      <td>inflammatory</td>\n",
       "      <td>non-neoplastic</td>\n",
       "      <td>http://atlasdermatologico.com.br/img?imageId=8633</td>\n",
       "      <td>httpwwwatlasdermatologicocombrimgimageId8633.jpg</td>\n",
       "    </tr>\n",
       "    <tr>\n",
       "      <th>2</th>\n",
       "      <td>9a9ded2de5e2c20a90cdfc2971e2e155</td>\n",
       "      <td>2</td>\n",
       "      <td>pityriasis lichenoides chronica</td>\n",
       "      <td>inflammatory</td>\n",
       "      <td>non-neoplastic</td>\n",
       "      <td>https://www.dermaamin.com/site/images/clinical...</td>\n",
       "      <td>httpwwwdermaamincomsiteimagesclinicalpicppityr...</td>\n",
       "    </tr>\n",
       "    <tr>\n",
       "      <th>3</th>\n",
       "      <td>d6166c9947e7e99915ff4d6907ddec44</td>\n",
       "      <td>2</td>\n",
       "      <td>mycosis fungoides</td>\n",
       "      <td>malignant cutaneous lymphoma</td>\n",
       "      <td>malignant</td>\n",
       "      <td>http://atlasdermatologico.com.br/img?imageId=4594</td>\n",
       "      <td>httpwwwatlasdermatologicocombrimgimageId4594.jpg</td>\n",
       "    </tr>\n",
       "    <tr>\n",
       "      <th>4</th>\n",
       "      <td>8ea58508e89d61a98320acb03139b8bb</td>\n",
       "      <td>3</td>\n",
       "      <td>urticaria pigmentosa</td>\n",
       "      <td>inflammatory</td>\n",
       "      <td>non-neoplastic</td>\n",
       "      <td>https://www.dermaamin.com/site/images/clinical...</td>\n",
       "      <td>httpwwwdermaamincomsiteimagesclinicalpicuurtic...</td>\n",
       "    </tr>\n",
       "  </tbody>\n",
       "</table>\n",
       "</div>"
      ],
      "text/plain": [
       "                            md5hash  fitzpatrick  \\\n",
       "0  dae2d6176ea28b4d991c573c8320b0cf            4   \n",
       "1  dcba3efe0fe28be2b0032df9470c320d            5   \n",
       "2  9a9ded2de5e2c20a90cdfc2971e2e155            2   \n",
       "3  d6166c9947e7e99915ff4d6907ddec44            2   \n",
       "4  8ea58508e89d61a98320acb03139b8bb            3   \n",
       "\n",
       "                             label          nine_partition_label  \\\n",
       "0                    lichen planus                  inflammatory   \n",
       "1                  behcets disease                  inflammatory   \n",
       "2  pityriasis lichenoides chronica                  inflammatory   \n",
       "3                mycosis fungoides  malignant cutaneous lymphoma   \n",
       "4             urticaria pigmentosa                  inflammatory   \n",
       "\n",
       "  three_partition_label                                                url  \\\n",
       "0        non-neoplastic  http://atlasdermatologico.com.br/img?imageId=3739   \n",
       "1        non-neoplastic  http://atlasdermatologico.com.br/img?imageId=8633   \n",
       "2        non-neoplastic  https://www.dermaamin.com/site/images/clinical...   \n",
       "3             malignant  http://atlasdermatologico.com.br/img?imageId=4594   \n",
       "4        non-neoplastic  https://www.dermaamin.com/site/images/clinical...   \n",
       "\n",
       "                                        url_alphanum  \n",
       "0   httpwwwatlasdermatologicocombrimgimageId3739.jpg  \n",
       "1   httpwwwatlasdermatologicocombrimgimageId8633.jpg  \n",
       "2  httpwwwdermaamincomsiteimagesclinicalpicppityr...  \n",
       "3   httpwwwatlasdermatologicocombrimgimageId4594.jpg  \n",
       "4  httpwwwdermaamincomsiteimagesclinicalpicuurtic...  "
      ]
     },
     "execution_count": 4,
     "metadata": {},
     "output_type": "execute_result"
    }
   ],
   "source": [
    "print(\"Número de instâncias com -1 no label:\"+str(len(df[df['fitzpatrick']== -1])))\n",
    "print(\"Dropando estas instâncias...\")\n",
    "df = df.drop(df[df['fitzpatrick']== -1].index,axis=0)\n",
    "df.head()"
   ]
  },
  {
   "cell_type": "code",
   "execution_count": 5,
   "id": "cc3e2801",
   "metadata": {},
   "outputs": [
    {
     "data": {
      "text/plain": [
       "15966"
      ]
     },
     "execution_count": 5,
     "metadata": {},
     "output_type": "execute_result"
    }
   ],
   "source": [
    "len(df)"
   ]
  },
  {
   "cell_type": "code",
   "execution_count": 6,
   "id": "7c0d8b30",
   "metadata": {},
   "outputs": [
    {
     "data": {
      "text/plain": [
       "KFold(n_splits=5, random_state=19, shuffle=True)"
      ]
     },
     "execution_count": 6,
     "metadata": {},
     "output_type": "execute_result"
    }
   ],
   "source": [
    "kf = KFold(n_splits=5, shuffle=True, random_state=19 )\n",
    "kf"
   ]
  },
  {
   "cell_type": "code",
   "execution_count": 7,
   "id": "2956c926",
   "metadata": {},
   "outputs": [],
   "source": [
    "import pytorch_lightning as pl"
   ]
  },
  {
   "cell_type": "code",
   "execution_count": 8,
   "id": "9d371cc9",
   "metadata": {},
   "outputs": [],
   "source": [
    "n_classes = 6\n",
    "import torch.nn.functional as F\n",
    "\n",
    "class LitClassificationModel(pl.LightningModule):\n",
    "    \n",
    "    def __init__(self, df_train, df_test):\n",
    "        super().__init__()\n",
    "        self.df_train = df_train\n",
    "        self.df_test = df_test\n",
    "        self.train_loss_history = []\n",
    "        self.train_acc_history = []\n",
    "        self.train_acc_relaxed_history = []\n",
    "        \n",
    "        self.test_loss_history = []\n",
    "        self.test_acc_history = []\n",
    "        self.test_acc_relaxed_history = []\n",
    "        self.model = models.resnet50(pretrained=True)\n",
    "        num_features_in_fc = self.model.fc.in_features\n",
    "        self.model.fc = nn.Linear(num_features_in_fc, n_classes)\n",
    "        for param in self.model.parameters():\n",
    "            param.requires_grad = True\n",
    "            \n",
    "    def forward(self,x):\n",
    "        return self.model(x)\n",
    "    \n",
    "    def configure_optimizers(self):\n",
    "        optimizer = optim.SGD(model.parameters(), lr=0.001, momentum=0.9)\n",
    "        exp_lr_scheduler = lr_scheduler.StepLR(optimizer, step_size = 1, gamma=0.1)\n",
    "        return [optimizer],[exp_lr_scheduler]\n",
    "    \n",
    "    def training_step(self,batch,batch_idx):\n",
    "        inputs = batch['image']\n",
    "        labels = batch['label']\n",
    "        outputs = self(inputs)\n",
    "        \n",
    "        _, preds = torch.max(outputs,1)\n",
    "        labels = torch.argmax(labels,axis=1)\n",
    "        \n",
    "        \n",
    "        loss = F.cross_entropy(outputs,labels.long())\n",
    "        running_corrects = torch.sum(preds == labels)\n",
    "        \n",
    "        relaxed_running_hits = torch.sum(preds == labels) + torch.sum(preds == labels+1)+torch.sum(preds == labels-1)\n",
    "        \n",
    "        return {'loss':loss, 'hits':running_corrects,'relaxed_hits':relaxed_running_hits}\n",
    "    \n",
    "    def training_epoch_end(self,outputs):\n",
    "        avg_loss = torch.stack([x['loss'] for x in outputs]).mean()\n",
    "        num_hits = torch.stack([x['hits'] for x in outputs]).sum()\n",
    "        relaxed_hits = torch.stack([x['relaxed_hits'] for x in outputs]).sum()\n",
    "        self.train_loss_history.append(avg_loss.item())\n",
    "        self.train_acc_history.append(num_hits.item())\n",
    "        self.train_acc_relaxed_history.append(relaxed_hits.item())\n",
    "        return None\n",
    "    \n",
    "    def validation_step(self,batch,batch_idx):\n",
    "        inputs = batch['image']\n",
    "        labels = batch['label']\n",
    "        outputs = self(inputs)\n",
    "        \n",
    "        _, preds = torch.max(outputs,1)\n",
    "        labels = torch.argmax(labels,axis=1)\n",
    "        loss = F.cross_entropy(outputs,labels.long())\n",
    "        running_corrects = torch.sum(preds == labels)\n",
    "        \n",
    "        relaxed_running_hits = torch.sum(preds == labels) + torch.sum(preds == labels+1)+torch.sum(preds == labels-1)\n",
    "        \n",
    "        return {'loss':loss, 'hits':running_corrects,'relaxed_hits':relaxed_running_hits}\n",
    "    \n",
    "    def validation_epoch_end(self,outputs):\n",
    "        avg_loss = torch.stack([x['loss'] for x in outputs]).mean()\n",
    "        num_hits = torch.stack([x['hits'] for x in outputs]).sum()\n",
    "        relaxed_hits = torch.stack([x['relaxed_hits'] for x in outputs]).sum()\n",
    "        self.test_loss_history.append(avg_loss.item())\n",
    "        self.test_acc_history.append(num_hits.item())\n",
    "        self.test_acc_relaxed_history.append(relaxed_hits.item())\n",
    "        \n",
    "        print(relaxed_hits)\n",
    "        return None\n",
    "    \n",
    "    def train_dataloader(self):\n",
    "        data_train = FitzpatrickDataset( self.df_train,'../../datasets/fitzpatrick17k/resized_images', target = 'fitzpatrick',\n",
    "                          transform = transforms.Compose([transforms.ToTensor(),\n",
    "                                                          transforms.RandomResizedCrop(224),\n",
    "                                                          transforms.RandomHorizontalFlip(),\n",
    "                                                          transforms.Normalize([0.485,0.456,0.406],[0.229,0.224,0.225])]))\n",
    "    \n",
    "        train_dataloader = DataLoader(data_train,batch_size=64,num_workers=8,shuffle=True)\n",
    "        \n",
    "        return train_dataloader\n",
    "    \n",
    "    def val_dataloader(self):\n",
    "        data_val = FitzpatrickDataset( self.df_test,'../../datasets/fitzpatrick17k/resized_images', target = 'fitzpatrick',\n",
    "                          transform = transforms.Compose([transforms.ToTensor(),\n",
    "                                                          transforms.CenterCrop(224),\n",
    "                                                          transforms.Normalize([0.485,0.456,0.406],[0.229,0.224,0.225])]))\n",
    "    \n",
    "        val_dataloader = DataLoader(data_val,batch_size=64,num_workers=8,shuffle=False)\n",
    "    \n",
    "        return val_dataloader"
   ]
  },
  {
   "cell_type": "code",
   "execution_count": 9,
   "id": "26feba34",
   "metadata": {},
   "outputs": [
    {
     "name": "stderr",
     "output_type": "stream",
     "text": [
      "Downloading: \"https://download.pytorch.org/models/resnet50-0676ba61.pth\" to /root/.cache/torch/hub/checkpoints/resnet50-0676ba61.pth\n"
     ]
    },
    {
     "data": {
      "application/vnd.jupyter.widget-view+json": {
       "model_id": "b8fb444fca2d41abb540b974f5c65100",
       "version_major": 2,
       "version_minor": 0
      },
      "text/plain": [
       "HBox(children=(HTML(value=''), FloatProgress(value=0.0, max=102530333.0), HTML(value='')))"
      ]
     },
     "metadata": {},
     "output_type": "display_data"
    },
    {
     "name": "stdout",
     "output_type": "stream",
     "text": [
      "\n"
     ]
    },
    {
     "name": "stderr",
     "output_type": "stream",
     "text": [
      "GPU available: True, used: True\n",
      "TPU available: False, using: 0 TPU cores\n",
      "IPU available: False, using: 0 IPUs\n",
      "LOCAL_RANK: 0 - CUDA_VISIBLE_DEVICES: [0]\n",
      "\n",
      "  | Name  | Type   | Params\n",
      "---------------------------------\n",
      "0 | model | ResNet | 23.5 M\n",
      "---------------------------------\n",
      "23.5 M    Trainable params\n",
      "0         Non-trainable params\n",
      "23.5 M    Total params\n",
      "94.081    Total estimated model params size (MB)\n"
     ]
    },
    {
     "data": {
      "application/vnd.jupyter.widget-view+json": {
       "model_id": "",
       "version_major": 2,
       "version_minor": 0
      },
      "text/plain": [
       "HBox(children=(HTML(value='Validation sanity check'), FloatProgress(value=1.0, bar_style='info', layout=Layout…"
      ]
     },
     "metadata": {},
     "output_type": "display_data"
    },
    {
     "name": "stdout",
     "output_type": "stream",
     "text": [
      "tensor(43, device='cuda:0')\n"
     ]
    },
    {
     "data": {
      "application/vnd.jupyter.widget-view+json": {
       "model_id": "3ceac8cb232b47aabdb73a58176f6c70",
       "version_major": 2,
       "version_minor": 0
      },
      "text/plain": [
       "HBox(children=(HTML(value='Training'), FloatProgress(value=1.0, bar_style='info', layout=Layout(flex='2'), max…"
      ]
     },
     "metadata": {},
     "output_type": "display_data"
    },
    {
     "data": {
      "application/vnd.jupyter.widget-view+json": {
       "model_id": "",
       "version_major": 2,
       "version_minor": 0
      },
      "text/plain": [
       "HBox(children=(HTML(value='Validating'), FloatProgress(value=1.0, bar_style='info', layout=Layout(flex='2'), m…"
      ]
     },
     "metadata": {},
     "output_type": "display_data"
    },
    {
     "name": "stdout",
     "output_type": "stream",
     "text": [
      "tensor(2819, device='cuda:0')\n"
     ]
    },
    {
     "data": {
      "application/vnd.jupyter.widget-view+json": {
       "model_id": "",
       "version_major": 2,
       "version_minor": 0
      },
      "text/plain": [
       "HBox(children=(HTML(value='Validating'), FloatProgress(value=1.0, bar_style='info', layout=Layout(flex='2'), m…"
      ]
     },
     "metadata": {},
     "output_type": "display_data"
    },
    {
     "name": "stdout",
     "output_type": "stream",
     "text": [
      "tensor(2872, device='cuda:0')\n"
     ]
    },
    {
     "data": {
      "application/vnd.jupyter.widget-view+json": {
       "model_id": "",
       "version_major": 2,
       "version_minor": 0
      },
      "text/plain": [
       "HBox(children=(HTML(value='Validating'), FloatProgress(value=1.0, bar_style='info', layout=Layout(flex='2'), m…"
      ]
     },
     "metadata": {},
     "output_type": "display_data"
    },
    {
     "name": "stdout",
     "output_type": "stream",
     "text": [
      "tensor(2876, device='cuda:0')\n"
     ]
    },
    {
     "data": {
      "application/vnd.jupyter.widget-view+json": {
       "model_id": "",
       "version_major": 2,
       "version_minor": 0
      },
      "text/plain": [
       "HBox(children=(HTML(value='Validating'), FloatProgress(value=1.0, bar_style='info', layout=Layout(flex='2'), m…"
      ]
     },
     "metadata": {},
     "output_type": "display_data"
    },
    {
     "name": "stdout",
     "output_type": "stream",
     "text": [
      "tensor(2888, device='cuda:0')\n"
     ]
    },
    {
     "data": {
      "application/vnd.jupyter.widget-view+json": {
       "model_id": "",
       "version_major": 2,
       "version_minor": 0
      },
      "text/plain": [
       "HBox(children=(HTML(value='Validating'), FloatProgress(value=1.0, bar_style='info', layout=Layout(flex='2'), m…"
      ]
     },
     "metadata": {},
     "output_type": "display_data"
    },
    {
     "name": "stdout",
     "output_type": "stream",
     "text": [
      "tensor(2881, device='cuda:0')\n",
      "\n",
      "[10478, 11185, 11261, 11222, 11273]\n",
      "[5039, 5860, 5989, 6018, 6059]\n"
     ]
    },
    {
     "data": {
      "image/png": "[encoded data removed]",
      "text/plain": [
       "<Figure size 432x288 with 1 Axes>"
      ]
     },
     "metadata": {
      "needs_background": "light"
     },
     "output_type": "display_data"
    }
   ],
   "source": [
    "from pytorch_lightning import Trainer\n",
    "\n",
    "for train_index, test_index in kf.split(df):\n",
    "    df_train = df.iloc[train_index]\n",
    "    df_test = df.iloc[test_index]\n",
    "    \n",
    "    \n",
    "    model = LitClassificationModel(df_train,df_test)\n",
    "    \n",
    "    #trainer = Trainer(fast_dev_run=True)\n",
    "    trainer = Trainer(max_epochs=5,accelerator='gpu',gpus=1)\n",
    "    \n",
    "    \n",
    "    trainer.fit(model)\n",
    "    print(model.train_acc_relaxed_history)\n",
    "    print(model.train_acc_history)\n",
    "    plt.plot(model.train_acc_history)\n",
    "    break\n",
    "    \n",
    "    \n",
    "    "
   ]
  },
  {
   "cell_type": "code",
   "execution_count": 10,
   "id": "02d37eeb",
   "metadata": {},
   "outputs": [
    {
     "name": "stdout",
     "output_type": "stream",
     "text": [
      "[21, 1462, 1517, 1514, 1525, 1514]\n"
     ]
    },
    {
     "data": {
      "text/plain": [
       "[<matplotlib.lines.Line2D at 0x7ff5c0972d90>]"
      ]
     },
     "execution_count": 10,
     "metadata": {},
     "output_type": "execute_result"
    },
    {
     "data": {
      "image/png": "[encoded data removed]",
      "text/plain": [
       "<Figure size 432x288 with 1 Axes>"
      ]
     },
     "metadata": {
      "needs_background": "light"
     },
     "output_type": "display_data"
    }
   ],
   "source": [
    "print(model.test_acc_history)\n",
    "plt.plot(model.test_acc_history)"
   ]
  },
  {
   "cell_type": "code",
   "execution_count": 11,
   "id": "0848e072",
   "metadata": {},
   "outputs": [
    {
     "name": "stdout",
     "output_type": "stream",
     "text": [
      "[43, 2819, 2872, 2876, 2888, 2881]\n"
     ]
    },
    {
     "data": {
      "text/plain": [
       "[<matplotlib.lines.Line2D at 0x7ff5c08d9b80>]"
      ]
     },
     "execution_count": 11,
     "metadata": {},
     "output_type": "execute_result"
    },
    {
     "data": {
      "image/png": "[encoded data removed]",
      "text/plain": [
       "<Figure size 432x288 with 1 Axes>"
      ]
     },
     "metadata": {
      "needs_background": "light"
     },
     "output_type": "display_data"
    }
   ],
   "source": [
    "print(model.test_acc_relaxed_history)\n",
    "plt.plot(model.test_acc_relaxed_history)"
   ]
  },
  {
   "cell_type": "code",
   "execution_count": 12,
   "id": "c9b82163",
   "metadata": {},
   "outputs": [
    {
     "data": {
      "text/plain": [
       "3194"
      ]
     },
     "execution_count": 12,
     "metadata": {},
     "output_type": "execute_result"
    }
   ],
   "source": [
    "len(df_test)"
   ]
  }
 ],
 "metadata": {
  "kernelspec": {
   "display_name": "Python 3 (ipykernel)",
   "language": "python",
   "name": "python3"
  },
  "language_info": {
   "codemirror_mode": {
    "name": "ipython",
    "version": 3
   },
   "file_extension": ".py",
   "mimetype": "text/x-python",
   "name": "python",
   "nbconvert_exporter": "python",
   "pygments_lexer": "ipython3",
   "version": "3.8.8"
  }
 },
 "nbformat": 4,
 "nbformat_minor": 5
}
