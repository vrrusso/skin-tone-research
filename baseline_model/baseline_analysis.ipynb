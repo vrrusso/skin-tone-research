{
 "cells": [
  {
   "cell_type": "code",
   "execution_count": 1,
   "id": "265ed1c2",
   "metadata": {},
   "outputs": [],
   "source": [
    "import pandas as pd\n",
    "import matplotlib.pyplot as plt"
   ]
  },
  {
   "cell_type": "code",
   "execution_count": 4,
   "id": "f39df362",
   "metadata": {},
   "outputs": [],
   "source": [
    "results = pd.read_csv('./baseline_results_train_split.csv')"
   ]
  },
  {
   "cell_type": "code",
   "execution_count": 6,
   "id": "1cc9d4da",
   "metadata": {},
   "outputs": [
    {
     "data": {
      "text/html": [
       "<div>\n",
       "<style scoped>\n",
       "    .dataframe tbody tr th:only-of-type {\n",
       "        vertical-align: middle;\n",
       "    }\n",
       "\n",
       "    .dataframe tbody tr th {\n",
       "        vertical-align: top;\n",
       "    }\n",
       "\n",
       "    .dataframe thead th {\n",
       "        text-align: right;\n",
       "    }\n",
       "</style>\n",
       "<table border=\"1\" class=\"dataframe\">\n",
       "  <thead>\n",
       "    <tr style=\"text-align: right;\">\n",
       "      <th></th>\n",
       "      <th>segmented_ita</th>\n",
       "      <th>direct_ita</th>\n",
       "      <th>kinyananjui_class</th>\n",
       "      <th>empirical_class</th>\n",
       "      <th>kinyananjui_hit</th>\n",
       "      <th>empirical_hit</th>\n",
       "      <th>kinyananjui_relaxed_hit</th>\n",
       "      <th>empirical_relaxed_hit</th>\n",
       "      <th>real_class</th>\n",
       "    </tr>\n",
       "  </thead>\n",
       "  <tbody>\n",
       "    <tr>\n",
       "      <th>0</th>\n",
       "      <td>33.230388</td>\n",
       "      <td>32.043570</td>\n",
       "      <td>3</td>\n",
       "      <td>2</td>\n",
       "      <td>0</td>\n",
       "      <td>1</td>\n",
       "      <td>1</td>\n",
       "      <td>1</td>\n",
       "      <td>2</td>\n",
       "    </tr>\n",
       "    <tr>\n",
       "      <th>1</th>\n",
       "      <td>NaN</td>\n",
       "      <td>164.233651</td>\n",
       "      <td>6</td>\n",
       "      <td>6</td>\n",
       "      <td>0</td>\n",
       "      <td>0</td>\n",
       "      <td>0</td>\n",
       "      <td>0</td>\n",
       "      <td>1</td>\n",
       "    </tr>\n",
       "    <tr>\n",
       "      <th>2</th>\n",
       "      <td>48.519973</td>\n",
       "      <td>35.469942</td>\n",
       "      <td>2</td>\n",
       "      <td>1</td>\n",
       "      <td>1</td>\n",
       "      <td>0</td>\n",
       "      <td>1</td>\n",
       "      <td>1</td>\n",
       "      <td>2</td>\n",
       "    </tr>\n",
       "    <tr>\n",
       "      <th>3</th>\n",
       "      <td>-5.196491</td>\n",
       "      <td>9.876615</td>\n",
       "      <td>6</td>\n",
       "      <td>5</td>\n",
       "      <td>0</td>\n",
       "      <td>0</td>\n",
       "      <td>0</td>\n",
       "      <td>1</td>\n",
       "      <td>4</td>\n",
       "    </tr>\n",
       "    <tr>\n",
       "      <th>4</th>\n",
       "      <td>33.253809</td>\n",
       "      <td>55.188757</td>\n",
       "      <td>3</td>\n",
       "      <td>2</td>\n",
       "      <td>0</td>\n",
       "      <td>0</td>\n",
       "      <td>0</td>\n",
       "      <td>0</td>\n",
       "      <td>5</td>\n",
       "    </tr>\n",
       "    <tr>\n",
       "      <th>...</th>\n",
       "      <td>...</td>\n",
       "      <td>...</td>\n",
       "      <td>...</td>\n",
       "      <td>...</td>\n",
       "      <td>...</td>\n",
       "      <td>...</td>\n",
       "      <td>...</td>\n",
       "      <td>...</td>\n",
       "      <td>...</td>\n",
       "    </tr>\n",
       "    <tr>\n",
       "      <th>14364</th>\n",
       "      <td>29.449512</td>\n",
       "      <td>29.519689</td>\n",
       "      <td>3</td>\n",
       "      <td>2</td>\n",
       "      <td>1</td>\n",
       "      <td>0</td>\n",
       "      <td>1</td>\n",
       "      <td>1</td>\n",
       "      <td>3</td>\n",
       "    </tr>\n",
       "    <tr>\n",
       "      <th>14365</th>\n",
       "      <td>38.138477</td>\n",
       "      <td>29.071445</td>\n",
       "      <td>3</td>\n",
       "      <td>2</td>\n",
       "      <td>0</td>\n",
       "      <td>0</td>\n",
       "      <td>1</td>\n",
       "      <td>0</td>\n",
       "      <td>4</td>\n",
       "    </tr>\n",
       "    <tr>\n",
       "      <th>14366</th>\n",
       "      <td>53.264299</td>\n",
       "      <td>52.827444</td>\n",
       "      <td>2</td>\n",
       "      <td>1</td>\n",
       "      <td>1</td>\n",
       "      <td>0</td>\n",
       "      <td>1</td>\n",
       "      <td>1</td>\n",
       "      <td>2</td>\n",
       "    </tr>\n",
       "    <tr>\n",
       "      <th>14367</th>\n",
       "      <td>38.879170</td>\n",
       "      <td>38.797381</td>\n",
       "      <td>3</td>\n",
       "      <td>2</td>\n",
       "      <td>0</td>\n",
       "      <td>1</td>\n",
       "      <td>1</td>\n",
       "      <td>1</td>\n",
       "      <td>2</td>\n",
       "    </tr>\n",
       "    <tr>\n",
       "      <th>14368</th>\n",
       "      <td>29.523744</td>\n",
       "      <td>30.028225</td>\n",
       "      <td>3</td>\n",
       "      <td>2</td>\n",
       "      <td>0</td>\n",
       "      <td>0</td>\n",
       "      <td>1</td>\n",
       "      <td>0</td>\n",
       "      <td>4</td>\n",
       "    </tr>\n",
       "  </tbody>\n",
       "</table>\n",
       "<p>14369 rows × 9 columns</p>\n",
       "</div>"
      ],
      "text/plain": [
       "       segmented_ita  direct_ita  kinyananjui_class  empirical_class  \\\n",
       "0          33.230388   32.043570                  3                2   \n",
       "1                NaN  164.233651                  6                6   \n",
       "2          48.519973   35.469942                  2                1   \n",
       "3          -5.196491    9.876615                  6                5   \n",
       "4          33.253809   55.188757                  3                2   \n",
       "...              ...         ...                ...              ...   \n",
       "14364      29.449512   29.519689                  3                2   \n",
       "14365      38.138477   29.071445                  3                2   \n",
       "14366      53.264299   52.827444                  2                1   \n",
       "14367      38.879170   38.797381                  3                2   \n",
       "14368      29.523744   30.028225                  3                2   \n",
       "\n",
       "       kinyananjui_hit  empirical_hit  kinyananjui_relaxed_hit  \\\n",
       "0                    0              1                        1   \n",
       "1                    0              0                        0   \n",
       "2                    1              0                        1   \n",
       "3                    0              0                        0   \n",
       "4                    0              0                        0   \n",
       "...                ...            ...                      ...   \n",
       "14364                1              0                        1   \n",
       "14365                0              0                        1   \n",
       "14366                1              0                        1   \n",
       "14367                0              1                        1   \n",
       "14368                0              0                        1   \n",
       "\n",
       "       empirical_relaxed_hit  real_class  \n",
       "0                          1           2  \n",
       "1                          0           1  \n",
       "2                          1           2  \n",
       "3                          1           4  \n",
       "4                          0           5  \n",
       "...                      ...         ...  \n",
       "14364                      1           3  \n",
       "14365                      0           4  \n",
       "14366                      1           2  \n",
       "14367                      1           2  \n",
       "14368                      0           4  \n",
       "\n",
       "[14369 rows x 9 columns]"
      ]
     },
     "execution_count": 6,
     "metadata": {},
     "output_type": "execute_result"
    }
   ],
   "source": [
    "results"
   ]
  },
  {
   "cell_type": "markdown",
   "id": "aa589bc1",
   "metadata": {},
   "source": [
    "Vamos começar analisando a diferença do extrair a informação da imagem inteira e da região segmentada:"
   ]
  },
  {
   "cell_type": "code",
   "execution_count": 10,
   "id": "93a3b97c",
   "metadata": {},
   "outputs": [
    {
     "data": {
      "text/html": [
       "<div>\n",
       "<style scoped>\n",
       "    .dataframe tbody tr th:only-of-type {\n",
       "        vertical-align: middle;\n",
       "    }\n",
       "\n",
       "    .dataframe tbody tr th {\n",
       "        vertical-align: top;\n",
       "    }\n",
       "\n",
       "    .dataframe thead th {\n",
       "        text-align: right;\n",
       "    }\n",
       "</style>\n",
       "<table border=\"1\" class=\"dataframe\">\n",
       "  <thead>\n",
       "    <tr style=\"text-align: right;\">\n",
       "      <th></th>\n",
       "      <th>segmented_ita</th>\n",
       "      <th>direct_ita</th>\n",
       "    </tr>\n",
       "  </thead>\n",
       "  <tbody>\n",
       "    <tr>\n",
       "      <th>count</th>\n",
       "      <td>14350.000000</td>\n",
       "      <td>14369.000000</td>\n",
       "    </tr>\n",
       "    <tr>\n",
       "      <th>mean</th>\n",
       "      <td>24.017285</td>\n",
       "      <td>17.569868</td>\n",
       "    </tr>\n",
       "    <tr>\n",
       "      <th>std</th>\n",
       "      <td>29.638906</td>\n",
       "      <td>44.040528</td>\n",
       "    </tr>\n",
       "    <tr>\n",
       "      <th>min</th>\n",
       "      <td>-129.485571</td>\n",
       "      <td>-179.453924</td>\n",
       "    </tr>\n",
       "    <tr>\n",
       "      <th>25%</th>\n",
       "      <td>6.862796</td>\n",
       "      <td>-2.859039</td>\n",
       "    </tr>\n",
       "    <tr>\n",
       "      <th>50%</th>\n",
       "      <td>24.352593</td>\n",
       "      <td>20.308503</td>\n",
       "    </tr>\n",
       "    <tr>\n",
       "      <th>75%</th>\n",
       "      <td>44.207734</td>\n",
       "      <td>45.373512</td>\n",
       "    </tr>\n",
       "    <tr>\n",
       "      <th>max</th>\n",
       "      <td>124.480807</td>\n",
       "      <td>178.601928</td>\n",
       "    </tr>\n",
       "  </tbody>\n",
       "</table>\n",
       "</div>"
      ],
      "text/plain": [
       "       segmented_ita    direct_ita\n",
       "count   14350.000000  14369.000000\n",
       "mean       24.017285     17.569868\n",
       "std        29.638906     44.040528\n",
       "min      -129.485571   -179.453924\n",
       "25%         6.862796     -2.859039\n",
       "50%        24.352593     20.308503\n",
       "75%        44.207734     45.373512\n",
       "max       124.480807    178.601928"
      ]
     },
     "execution_count": 10,
     "metadata": {},
     "output_type": "execute_result"
    }
   ],
   "source": [
    "results[['segmented_ita','direct_ita']].describe()"
   ]
  },
  {
   "cell_type": "code",
   "execution_count": 11,
   "id": "6660408b",
   "metadata": {},
   "outputs": [
    {
     "data": {
      "text/plain": [
       "<AxesSubplot:>"
      ]
     },
     "execution_count": 11,
     "metadata": {},
     "output_type": "execute_result"
    },
    {
     "data": {
      "image/png": "[encoded data removed]",
      "text/plain": [
       "<Figure size 432x288 with 1 Axes>"
      ]
     },
     "metadata": {
      "needs_background": "light"
     },
     "output_type": "display_data"
    }
   ],
   "source": [
    "#fig = plt.figure(figsize =(10, 7))\n",
    " \n",
    "# Creating plot\n",
    "results[['segmented_ita','direct_ita']].plot(kind='box')"
   ]
  },
  {
   "cell_type": "markdown",
   "id": "6fef2561",
   "metadata": {},
   "source": [
    "É possível ver que a extração direta apresenta variância muito maior, com uma maior presença de outliers. Considerendo que este é um dataset dermatoscópico, boa parte das imagens já são apenas de pele, porém um dataset de faces apresentaria uma necessidade ainda maior de segmentação."
   ]
  },
  {
   "cell_type": "markdown",
   "id": "d1770314",
   "metadata": {},
   "source": [
    "Vamos agora analisar os resultados. Existem duas tabelas de classificação, a utilizada por Kinyananjui e a utilizado pelos autores do paper Fitzpatrick17k que foram calculados de maneira a maximizar o acerto neste dataset (parece uma abordagem bayseana?). Vamos comparar o resultado das duas no treino."
   ]
  },
  {
   "cell_type": "code",
   "execution_count": 12,
   "id": "59014f35",
   "metadata": {},
   "outputs": [
    {
     "name": "stdout",
     "output_type": "stream",
     "text": [
      "Acurácia obtida utilizando tabela Kinyananjui: 26.22%\n",
      "Acurácia obtida utilizando valores empíricos: 34.00%\n"
     ]
    }
   ],
   "source": [
    "n_rows = len(results)\n",
    "\n",
    "print(f\"Acurácia obtida utilizando tabela Kinyananjui: {results['kinyananjui_hit'].sum()/n_rows*100:.2f}%\")\n",
    "print(f\"Acurácia obtida utilizando valores empíricos: {results['empirical_hit'].sum()/n_rows*100:.2f}%\")"
   ]
  },
  {
   "cell_type": "markdown",
   "id": "0a70f209",
   "metadata": {},
   "source": [
    "Acerto superior ao classificador aleatório (16.66%)"
   ]
  },
  {
   "cell_type": "markdown",
   "id": "93476bff",
   "metadata": {},
   "source": [
    "Como o dataset é desbalanceado, vamos usar a balanced_accuracy para uma métrica que capture melhor esse desbalanceamento."
   ]
  },
  {
   "cell_type": "code",
   "execution_count": 18,
   "id": "d20c92ab",
   "metadata": {},
   "outputs": [
    {
     "name": "stdout",
     "output_type": "stream",
     "text": [
      "Acurácia balanceada utilizando tabela Kinyananjui: 0.32\n",
      "Acurácia obtida utilizando valores empíricos: 0.35\n"
     ]
    }
   ],
   "source": [
    "from sklearn.metrics import balanced_accuracy_score\n",
    "\n",
    "print(f\"Acurácia balanceada utilizando tabela Kinyananjui: {balanced_accuracy_score(results['real_class'],results['kinyananjui_class']):.2f}\")\n",
    "print(f\"Acurácia obtida utilizando valores empíricos: {balanced_accuracy_score(results['real_class'],results['empirical_class']):.2f}\")"
   ]
  },
  {
   "cell_type": "markdown",
   "id": "51f22cf9",
   "metadata": {},
   "source": [
    "Também é utilizado no artigo a métrica de acurácia considerando um nível de erro, ou seja, caso a classe verdadeira seja 3, o classificador terá acertado se responder 4 ou 2."
   ]
  },
  {
   "cell_type": "code",
   "execution_count": 7,
   "id": "f13925f2",
   "metadata": {},
   "outputs": [
    {
     "name": "stdout",
     "output_type": "stream",
     "text": [
      "Acurácia obtida utilizando tabela Kinyananjui: 61.41%\n",
      "Acurácia obtida utilizando valores empíricos: 74.95%\n"
     ]
    }
   ],
   "source": [
    "n_rows = len(results)\n",
    "\n",
    "print(f\"Acurácia obtida utilizando tabela Kinyananjui: {results['kinyananjui_relaxed_hit'].sum()/n_rows*100:.2f}%\")\n",
    "print(f\"Acurácia obtida utilizando valores empíricos: {results['empirical_relaxed_hit'].sum()/n_rows*100:.2f}%\")"
   ]
  },
  {
   "cell_type": "markdown",
   "id": "acdbbe4a",
   "metadata": {},
   "source": [
    "Podemos selecionar também o acerto por classes:"
   ]
  },
  {
   "cell_type": "code",
   "execution_count": 8,
   "id": "61a18fa0",
   "metadata": {},
   "outputs": [
    {
     "name": "stdout",
     "output_type": "stream",
     "text": [
      "fitzpatrick\tN. Instancias\tAcurácia_K\tAcurácia_E\tAcurácia_RK\tAcurácia_RE\n",
      "1\t\t2940\t\t43.84% \t\t64.73% \t\t63.30% \t\t79.52% \n",
      "2\t\t4796\t\t18.95% \t\t27.44% \t\t59.34% \t\t80.28% \n",
      "3\t\t3299\t\t23.37% \t\t22.52% \t\t54.08% \t\t71.20% \n",
      "4\t\t2776\t\t17.90% \t\t26.26% \t\t51.95% \t\t70.35% \n",
      "5\t\t1527\t\t14.67% \t\t35.76% \t\t89.26% \t\t69.88% \n",
      "6\t\t628\t\t74.68% \t\t30.57% \t\t81.05% \t\t65.13% \n"
     ]
    }
   ],
   "source": [
    "def results_per_class(results):\n",
    "    print(\"fitzpatrick\\tN. Instancias\\tAcurácia_K\\tAcurácia_E\\tAcurácia_RK\\tAcurácia_RE\")\n",
    "    for i in range(1,7):\n",
    "        n_rows = len(results.loc[results['real_class']==i])\n",
    "        print(f\"{i}\\t\\t{n_rows}\",end='')\n",
    "        print(f\"\\t\\t{results.loc[results['real_class']==i]['kinyananjui_hit'].sum()/n_rows*100:.2f}% \",end='')\n",
    "        print(f\"\\t\\t{results.loc[results['real_class']==i]['empirical_hit'].sum()/n_rows*100:.2f}% \",end='')\n",
    "        print(f\"\\t\\t{results.loc[results['real_class']==i]['kinyananjui_relaxed_hit'].sum()/n_rows*100:.2f}% \",end='')\n",
    "        print(f\"\\t\\t{results.loc[results['real_class']==i]['empirical_relaxed_hit'].sum()/n_rows*100:.2f}% \",end='')\n",
    "        print()\n",
    "results_per_class(results)"
   ]
  },
  {
   "cell_type": "markdown",
   "id": "ae5e6854",
   "metadata": {},
   "source": [
    "Vemos que existe uma grande variância nos erros em relação a cada classe e quando utilizamos a regra \"relaxada\" essa variância diminui. "
   ]
  }
 ],
 "metadata": {
  "kernelspec": {
   "display_name": "Python 3 (ipykernel)",
   "language": "python",
   "name": "python3"
  },
  "language_info": {
   "codemirror_mode": {
    "name": "ipython",
    "version": 3
   },
   "file_extension": ".py",
   "mimetype": "text/x-python",
   "name": "python",
   "nbconvert_exporter": "python",
   "pygments_lexer": "ipython3",
   "version": "3.8.8"
  }
 },
 "nbformat": 4,
 "nbformat_minor": 5
}
