{
 "cells": [
  {
   "cell_type": "code",
   "execution_count": 1,
   "id": "265ed1c2",
   "metadata": {},
   "outputs": [],
   "source": [
    "import pandas as pd\n",
    "import matplotlib.pyplot as plt"
   ]
  },
  {
   "cell_type": "code",
   "execution_count": 10,
   "id": "2d5027ca",
   "metadata": {},
   "outputs": [],
   "source": [
    "from sklearn.model_selection import train_test_split\n",
    "\n",
    "\n",
    "df = pd.read_csv('../../datasets/fitzpatrick17k/fitzpatrick17k.csv')\n",
    "\n",
    "df_train, df_test = train_test_split(df,test_size = 0.25, shuffle=True,random_state=19)\n",
    "df_train.to_csv('../../datasets/fitzpatrick17k/fitzpatrick17k_train.csv',index=False)\n",
    "df_test.to_csv('../../datasets/fitzpatrick17k/fitzpatrick17k_test.csv',index=False)"
   ]
  },
  {
   "cell_type": "code",
   "execution_count": 2,
   "id": "f39df362",
   "metadata": {},
   "outputs": [],
   "source": [
    "results = pd.read_csv('./baseline_results.csv')"
   ]
  },
  {
   "cell_type": "code",
   "execution_count": 3,
   "id": "1cc9d4da",
   "metadata": {},
   "outputs": [
    {
     "data": {
      "text/html": [
       "<div>\n",
       "<style scoped>\n",
       "    .dataframe tbody tr th:only-of-type {\n",
       "        vertical-align: middle;\n",
       "    }\n",
       "\n",
       "    .dataframe tbody tr th {\n",
       "        vertical-align: top;\n",
       "    }\n",
       "\n",
       "    .dataframe thead th {\n",
       "        text-align: right;\n",
       "    }\n",
       "</style>\n",
       "<table border=\"1\" class=\"dataframe\">\n",
       "  <thead>\n",
       "    <tr style=\"text-align: right;\">\n",
       "      <th></th>\n",
       "      <th>segmented_ita</th>\n",
       "      <th>direct_ita</th>\n",
       "      <th>kinyananjui_class</th>\n",
       "      <th>empirical_class</th>\n",
       "      <th>kinyananjui_hit</th>\n",
       "      <th>empirical_hit</th>\n",
       "      <th>kinyananjui_relaxed_hit</th>\n",
       "      <th>empirical_relaxed_hit</th>\n",
       "      <th>real_class</th>\n",
       "    </tr>\n",
       "  </thead>\n",
       "  <tbody>\n",
       "    <tr>\n",
       "      <th>0</th>\n",
       "      <td>-10.052935</td>\n",
       "      <td>-6.445718</td>\n",
       "      <td>6</td>\n",
       "      <td>5</td>\n",
       "      <td>0</td>\n",
       "      <td>0</td>\n",
       "      <td>0</td>\n",
       "      <td>1</td>\n",
       "      <td>4</td>\n",
       "    </tr>\n",
       "    <tr>\n",
       "      <th>1</th>\n",
       "      <td>-25.748827</td>\n",
       "      <td>-71.203786</td>\n",
       "      <td>6</td>\n",
       "      <td>6</td>\n",
       "      <td>0</td>\n",
       "      <td>0</td>\n",
       "      <td>1</td>\n",
       "      <td>1</td>\n",
       "      <td>5</td>\n",
       "    </tr>\n",
       "    <tr>\n",
       "      <th>2</th>\n",
       "      <td>45.145774</td>\n",
       "      <td>48.991663</td>\n",
       "      <td>2</td>\n",
       "      <td>1</td>\n",
       "      <td>1</td>\n",
       "      <td>0</td>\n",
       "      <td>1</td>\n",
       "      <td>1</td>\n",
       "      <td>2</td>\n",
       "    </tr>\n",
       "    <tr>\n",
       "      <th>3</th>\n",
       "      <td>44.147618</td>\n",
       "      <td>-97.912738</td>\n",
       "      <td>2</td>\n",
       "      <td>1</td>\n",
       "      <td>1</td>\n",
       "      <td>0</td>\n",
       "      <td>1</td>\n",
       "      <td>1</td>\n",
       "      <td>2</td>\n",
       "    </tr>\n",
       "    <tr>\n",
       "      <th>4</th>\n",
       "      <td>29.865609</td>\n",
       "      <td>9.164579</td>\n",
       "      <td>3</td>\n",
       "      <td>2</td>\n",
       "      <td>1</td>\n",
       "      <td>0</td>\n",
       "      <td>1</td>\n",
       "      <td>1</td>\n",
       "      <td>3</td>\n",
       "    </tr>\n",
       "    <tr>\n",
       "      <th>...</th>\n",
       "      <td>...</td>\n",
       "      <td>...</td>\n",
       "      <td>...</td>\n",
       "      <td>...</td>\n",
       "      <td>...</td>\n",
       "      <td>...</td>\n",
       "      <td>...</td>\n",
       "      <td>...</td>\n",
       "      <td>...</td>\n",
       "    </tr>\n",
       "    <tr>\n",
       "      <th>15961</th>\n",
       "      <td>38.130358</td>\n",
       "      <td>35.609285</td>\n",
       "      <td>3</td>\n",
       "      <td>2</td>\n",
       "      <td>0</td>\n",
       "      <td>1</td>\n",
       "      <td>1</td>\n",
       "      <td>1</td>\n",
       "      <td>2</td>\n",
       "    </tr>\n",
       "    <tr>\n",
       "      <th>15962</th>\n",
       "      <td>41.073810</td>\n",
       "      <td>28.669135</td>\n",
       "      <td>2</td>\n",
       "      <td>1</td>\n",
       "      <td>1</td>\n",
       "      <td>0</td>\n",
       "      <td>1</td>\n",
       "      <td>1</td>\n",
       "      <td>2</td>\n",
       "    </tr>\n",
       "    <tr>\n",
       "      <th>15963</th>\n",
       "      <td>37.955328</td>\n",
       "      <td>33.285039</td>\n",
       "      <td>3</td>\n",
       "      <td>2</td>\n",
       "      <td>0</td>\n",
       "      <td>1</td>\n",
       "      <td>1</td>\n",
       "      <td>1</td>\n",
       "      <td>2</td>\n",
       "    </tr>\n",
       "    <tr>\n",
       "      <th>15964</th>\n",
       "      <td>27.817694</td>\n",
       "      <td>33.437624</td>\n",
       "      <td>4</td>\n",
       "      <td>2</td>\n",
       "      <td>1</td>\n",
       "      <td>0</td>\n",
       "      <td>1</td>\n",
       "      <td>0</td>\n",
       "      <td>4</td>\n",
       "    </tr>\n",
       "    <tr>\n",
       "      <th>15965</th>\n",
       "      <td>-67.752199</td>\n",
       "      <td>-127.930345</td>\n",
       "      <td>6</td>\n",
       "      <td>6</td>\n",
       "      <td>0</td>\n",
       "      <td>0</td>\n",
       "      <td>0</td>\n",
       "      <td>0</td>\n",
       "      <td>1</td>\n",
       "    </tr>\n",
       "  </tbody>\n",
       "</table>\n",
       "<p>15966 rows × 9 columns</p>\n",
       "</div>"
      ],
      "text/plain": [
       "       segmented_ita  direct_ita  kinyananjui_class  empirical_class  \\\n",
       "0         -10.052935   -6.445718                  6                5   \n",
       "1         -25.748827  -71.203786                  6                6   \n",
       "2          45.145774   48.991663                  2                1   \n",
       "3          44.147618  -97.912738                  2                1   \n",
       "4          29.865609    9.164579                  3                2   \n",
       "...              ...         ...                ...              ...   \n",
       "15961      38.130358   35.609285                  3                2   \n",
       "15962      41.073810   28.669135                  2                1   \n",
       "15963      37.955328   33.285039                  3                2   \n",
       "15964      27.817694   33.437624                  4                2   \n",
       "15965     -67.752199 -127.930345                  6                6   \n",
       "\n",
       "       kinyananjui_hit  empirical_hit  kinyananjui_relaxed_hit  \\\n",
       "0                    0              0                        0   \n",
       "1                    0              0                        1   \n",
       "2                    1              0                        1   \n",
       "3                    1              0                        1   \n",
       "4                    1              0                        1   \n",
       "...                ...            ...                      ...   \n",
       "15961                0              1                        1   \n",
       "15962                1              0                        1   \n",
       "15963                0              1                        1   \n",
       "15964                1              0                        1   \n",
       "15965                0              0                        0   \n",
       "\n",
       "       empirical_relaxed_hit  real_class  \n",
       "0                          1           4  \n",
       "1                          1           5  \n",
       "2                          1           2  \n",
       "3                          1           2  \n",
       "4                          1           3  \n",
       "...                      ...         ...  \n",
       "15961                      1           2  \n",
       "15962                      1           2  \n",
       "15963                      1           2  \n",
       "15964                      0           4  \n",
       "15965                      0           1  \n",
       "\n",
       "[15966 rows x 9 columns]"
      ]
     },
     "execution_count": 3,
     "metadata": {},
     "output_type": "execute_result"
    }
   ],
   "source": [
    "results"
   ]
  },
  {
   "cell_type": "markdown",
   "id": "aa589bc1",
   "metadata": {},
   "source": [
    "Vamos começar analisando a diferença do extrair a informação da imagem inteira e da região segmentada:"
   ]
  },
  {
   "cell_type": "code",
   "execution_count": 4,
   "id": "93a3b97c",
   "metadata": {},
   "outputs": [
    {
     "data": {
      "text/html": [
       "<div>\n",
       "<style scoped>\n",
       "    .dataframe tbody tr th:only-of-type {\n",
       "        vertical-align: middle;\n",
       "    }\n",
       "\n",
       "    .dataframe tbody tr th {\n",
       "        vertical-align: top;\n",
       "    }\n",
       "\n",
       "    .dataframe thead th {\n",
       "        text-align: right;\n",
       "    }\n",
       "</style>\n",
       "<table border=\"1\" class=\"dataframe\">\n",
       "  <thead>\n",
       "    <tr style=\"text-align: right;\">\n",
       "      <th></th>\n",
       "      <th>segmented_ita</th>\n",
       "      <th>direct_ita</th>\n",
       "    </tr>\n",
       "  </thead>\n",
       "  <tbody>\n",
       "    <tr>\n",
       "      <th>count</th>\n",
       "      <td>15942.000000</td>\n",
       "      <td>15966.000000</td>\n",
       "    </tr>\n",
       "    <tr>\n",
       "      <th>mean</th>\n",
       "      <td>24.029480</td>\n",
       "      <td>17.583498</td>\n",
       "    </tr>\n",
       "    <tr>\n",
       "      <th>std</th>\n",
       "      <td>29.601595</td>\n",
       "      <td>44.233695</td>\n",
       "    </tr>\n",
       "    <tr>\n",
       "      <th>min</th>\n",
       "      <td>-133.034696</td>\n",
       "      <td>-179.453924</td>\n",
       "    </tr>\n",
       "    <tr>\n",
       "      <th>25%</th>\n",
       "      <td>6.942504</td>\n",
       "      <td>-2.865956</td>\n",
       "    </tr>\n",
       "    <tr>\n",
       "      <th>50%</th>\n",
       "      <td>24.251915</td>\n",
       "      <td>20.374510</td>\n",
       "    </tr>\n",
       "    <tr>\n",
       "      <th>75%</th>\n",
       "      <td>44.135007</td>\n",
       "      <td>45.521590</td>\n",
       "    </tr>\n",
       "    <tr>\n",
       "      <th>max</th>\n",
       "      <td>124.480807</td>\n",
       "      <td>178.601928</td>\n",
       "    </tr>\n",
       "  </tbody>\n",
       "</table>\n",
       "</div>"
      ],
      "text/plain": [
       "       segmented_ita    direct_ita\n",
       "count   15942.000000  15966.000000\n",
       "mean       24.029480     17.583498\n",
       "std        29.601595     44.233695\n",
       "min      -133.034696   -179.453924\n",
       "25%         6.942504     -2.865956\n",
       "50%        24.251915     20.374510\n",
       "75%        44.135007     45.521590\n",
       "max       124.480807    178.601928"
      ]
     },
     "execution_count": 4,
     "metadata": {},
     "output_type": "execute_result"
    }
   ],
   "source": [
    "results[['segmented_ita','direct_ita']].describe()"
   ]
  },
  {
   "cell_type": "code",
   "execution_count": 5,
   "id": "6660408b",
   "metadata": {},
   "outputs": [
    {
     "data": {
      "text/plain": [
       "<AxesSubplot:>"
      ]
     },
     "execution_count": 5,
     "metadata": {},
     "output_type": "execute_result"
    },
    {
     "data": {
      "image/png": "[encoded data removed]",
      "text/plain": [
       "<Figure size 432x288 with 1 Axes>"
      ]
     },
     "metadata": {
      "needs_background": "light"
     },
     "output_type": "display_data"
    }
   ],
   "source": [
    "#fig = plt.figure(figsize =(10, 7))\n",
    " \n",
    "# Creating plot\n",
    "results[['segmented_ita','direct_ita']].plot(kind='box')"
   ]
  },
  {
   "cell_type": "markdown",
   "id": "6fef2561",
   "metadata": {},
   "source": [
    "É possível ver que a extração direta apresenta variância muito maior, com uma maior presença de outliers. Considerendo que este é um dataset dermatoscópico, boa parte das imagens já são apenas de pele, porém um dataset de faces apresentaria uma necessidade ainda maior de segmentação."
   ]
  },
  {
   "cell_type": "markdown",
   "id": "d1770314",
   "metadata": {},
   "source": [
    "Vamos agora analisar os resultados. Existem duas tabelas de classificação, a utilizada por Kinyananjui e a utilizado pelos autores do paper Fitzpatrick17k que foram calculados de maneira a maximizar o acerto neste dataset (parece uma abordagem bayseana?). Vamos comparar o resultado das duas no treino."
   ]
  },
  {
   "cell_type": "code",
   "execution_count": 6,
   "id": "59014f35",
   "metadata": {},
   "outputs": [
    {
     "name": "stdout",
     "output_type": "stream",
     "text": [
      "Acurácia obtida utilizando tabela Kinyananjui: 26.05%\n",
      "Acurácia obtida utilizando valores empíricos: 34.00%\n"
     ]
    }
   ],
   "source": [
    "n_rows = len(results)\n",
    "\n",
    "print(f\"Acurácia obtida utilizando tabela Kinyananjui: {results['kinyananjui_hit'].sum()/n_rows*100:.2f}%\")\n",
    "print(f\"Acurácia obtida utilizando valores empíricos: {results['empirical_hit'].sum()/n_rows*100:.2f}%\")"
   ]
  },
  {
   "cell_type": "markdown",
   "id": "0a70f209",
   "metadata": {},
   "source": [
    "Acerto superior ao classificador aleatório (16.66%)"
   ]
  },
  {
   "cell_type": "markdown",
   "id": "51f22cf9",
   "metadata": {},
   "source": [
    "Também é utilizado no artigo a métrica de acurácia considerando um nível de erro, ou seja, caso a classe verdadeira seja 3, o classificador terá acertado se responder 4 ou 2."
   ]
  },
  {
   "cell_type": "code",
   "execution_count": 7,
   "id": "f13925f2",
   "metadata": {},
   "outputs": [
    {
     "name": "stdout",
     "output_type": "stream",
     "text": [
      "Acurácia obtida utilizando tabela Kinyananjui: 61.41%\n",
      "Acurácia obtida utilizando valores empíricos: 74.95%\n"
     ]
    }
   ],
   "source": [
    "n_rows = len(results)\n",
    "\n",
    "print(f\"Acurácia obtida utilizando tabela Kinyananjui: {results['kinyananjui_relaxed_hit'].sum()/n_rows*100:.2f}%\")\n",
    "print(f\"Acurácia obtida utilizando valores empíricos: {results['empirical_relaxed_hit'].sum()/n_rows*100:.2f}%\")"
   ]
  },
  {
   "cell_type": "markdown",
   "id": "acdbbe4a",
   "metadata": {},
   "source": [
    "Podemos selecionar também o acerto por classes:"
   ]
  },
  {
   "cell_type": "code",
   "execution_count": 8,
   "id": "61a18fa0",
   "metadata": {},
   "outputs": [
    {
     "name": "stdout",
     "output_type": "stream",
     "text": [
      "fitzpatrick\tN. Instancias\tAcurácia_K\tAcurácia_E\tAcurácia_RK\tAcurácia_RE\n",
      "1\t\t2940\t\t43.84% \t\t64.73% \t\t63.30% \t\t79.52% \n",
      "2\t\t4796\t\t18.95% \t\t27.44% \t\t59.34% \t\t80.28% \n",
      "3\t\t3299\t\t23.37% \t\t22.52% \t\t54.08% \t\t71.20% \n",
      "4\t\t2776\t\t17.90% \t\t26.26% \t\t51.95% \t\t70.35% \n",
      "5\t\t1527\t\t14.67% \t\t35.76% \t\t89.26% \t\t69.88% \n",
      "6\t\t628\t\t74.68% \t\t30.57% \t\t81.05% \t\t65.13% \n"
     ]
    }
   ],
   "source": [
    "def results_per_class(results):\n",
    "    print(\"fitzpatrick\\tN. Instancias\\tAcurácia_K\\tAcurácia_E\\tAcurácia_RK\\tAcurácia_RE\")\n",
    "    for i in range(1,7):\n",
    "        n_rows = len(results.loc[results['real_class']==i])\n",
    "        print(f\"{i}\\t\\t{n_rows}\",end='')\n",
    "        print(f\"\\t\\t{results.loc[results['real_class']==i]['kinyananjui_hit'].sum()/n_rows*100:.2f}% \",end='')\n",
    "        print(f\"\\t\\t{results.loc[results['real_class']==i]['empirical_hit'].sum()/n_rows*100:.2f}% \",end='')\n",
    "        print(f\"\\t\\t{results.loc[results['real_class']==i]['kinyananjui_relaxed_hit'].sum()/n_rows*100:.2f}% \",end='')\n",
    "        print(f\"\\t\\t{results.loc[results['real_class']==i]['empirical_relaxed_hit'].sum()/n_rows*100:.2f}% \",end='')\n",
    "        print()\n",
    "results_per_class(results)"
   ]
  },
  {
   "cell_type": "markdown",
   "id": "ae5e6854",
   "metadata": {},
   "source": [
    "Vemos que existe uma grande variância nos erros em relação a cada classe e quando utilizamos a regra \"relaxada\" essa variância diminui. "
   ]
  }
 ],
 "metadata": {
  "kernelspec": {
   "display_name": "Python 3 (ipykernel)",
   "language": "python",
   "name": "python3"
  },
  "language_info": {
   "codemirror_mode": {
    "name": "ipython",
    "version": 3
   },
   "file_extension": ".py",
   "mimetype": "text/x-python",
   "name": "python",
   "nbconvert_exporter": "python",
   "pygments_lexer": "ipython3",
   "version": "3.8.8"
  }
 },
 "nbformat": 4,
 "nbformat_minor": 5
}
