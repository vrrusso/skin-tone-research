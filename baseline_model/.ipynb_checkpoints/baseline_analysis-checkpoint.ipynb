{
 "cells": [
  {
   "cell_type": "code",
   "execution_count": 1,
   "id": "265ed1c2",
   "metadata": {},
   "outputs": [],
   "source": [
    "import pandas as pd\n",
    "import matplotlib.pyplot as plt"
   ]
  },
  {
   "cell_type": "code",
   "execution_count": 2,
   "id": "f39df362",
   "metadata": {},
   "outputs": [],
   "source": [
    "results = pd.read_csv('./baseline_train_results.csv')"
   ]
  },
  {
   "cell_type": "code",
   "execution_count": 3,
   "id": "1cc9d4da",
   "metadata": {},
   "outputs": [
    {
     "data": {
      "text/html": [
       "<div>\n",
       "<style scoped>\n",
       "    .dataframe tbody tr th:only-of-type {\n",
       "        vertical-align: middle;\n",
       "    }\n",
       "\n",
       "    .dataframe tbody tr th {\n",
       "        vertical-align: top;\n",
       "    }\n",
       "\n",
       "    .dataframe thead th {\n",
       "        text-align: right;\n",
       "    }\n",
       "</style>\n",
       "<table border=\"1\" class=\"dataframe\">\n",
       "  <thead>\n",
       "    <tr style=\"text-align: right;\">\n",
       "      <th></th>\n",
       "      <th>segmented_ita</th>\n",
       "      <th>direct_ita</th>\n",
       "      <th>kinyananjui_class</th>\n",
       "      <th>empirical_class</th>\n",
       "      <th>kinyananjui_hit</th>\n",
       "      <th>empirical_hit</th>\n",
       "      <th>kinyananjui_relaxed_hit</th>\n",
       "      <th>empirical_relaxed_hit</th>\n",
       "      <th>real_class</th>\n",
       "    </tr>\n",
       "  </thead>\n",
       "  <tbody>\n",
       "    <tr>\n",
       "      <th>0</th>\n",
       "      <td>-10.052935</td>\n",
       "      <td>-6.445718</td>\n",
       "      <td>6</td>\n",
       "      <td>5</td>\n",
       "      <td>0</td>\n",
       "      <td>0</td>\n",
       "      <td>0</td>\n",
       "      <td>1</td>\n",
       "      <td>4</td>\n",
       "    </tr>\n",
       "    <tr>\n",
       "      <th>1</th>\n",
       "      <td>-25.748827</td>\n",
       "      <td>-71.203786</td>\n",
       "      <td>6</td>\n",
       "      <td>6</td>\n",
       "      <td>0</td>\n",
       "      <td>0</td>\n",
       "      <td>1</td>\n",
       "      <td>1</td>\n",
       "      <td>5</td>\n",
       "    </tr>\n",
       "    <tr>\n",
       "      <th>2</th>\n",
       "      <td>45.145774</td>\n",
       "      <td>48.991663</td>\n",
       "      <td>2</td>\n",
       "      <td>1</td>\n",
       "      <td>1</td>\n",
       "      <td>0</td>\n",
       "      <td>1</td>\n",
       "      <td>1</td>\n",
       "      <td>2</td>\n",
       "    </tr>\n",
       "    <tr>\n",
       "      <th>3</th>\n",
       "      <td>44.147618</td>\n",
       "      <td>-97.912738</td>\n",
       "      <td>2</td>\n",
       "      <td>1</td>\n",
       "      <td>1</td>\n",
       "      <td>0</td>\n",
       "      <td>1</td>\n",
       "      <td>1</td>\n",
       "      <td>2</td>\n",
       "    </tr>\n",
       "    <tr>\n",
       "      <th>4</th>\n",
       "      <td>29.865609</td>\n",
       "      <td>9.164579</td>\n",
       "      <td>3</td>\n",
       "      <td>2</td>\n",
       "      <td>1</td>\n",
       "      <td>0</td>\n",
       "      <td>1</td>\n",
       "      <td>1</td>\n",
       "      <td>3</td>\n",
       "    </tr>\n",
       "    <tr>\n",
       "      <th>...</th>\n",
       "      <td>...</td>\n",
       "      <td>...</td>\n",
       "      <td>...</td>\n",
       "      <td>...</td>\n",
       "      <td>...</td>\n",
       "      <td>...</td>\n",
       "      <td>...</td>\n",
       "      <td>...</td>\n",
       "      <td>...</td>\n",
       "    </tr>\n",
       "    <tr>\n",
       "      <th>14365</th>\n",
       "      <td>32.057748</td>\n",
       "      <td>42.777683</td>\n",
       "      <td>3</td>\n",
       "      <td>2</td>\n",
       "      <td>0</td>\n",
       "      <td>0</td>\n",
       "      <td>1</td>\n",
       "      <td>0</td>\n",
       "      <td>4</td>\n",
       "    </tr>\n",
       "    <tr>\n",
       "      <th>14366</th>\n",
       "      <td>51.907781</td>\n",
       "      <td>52.943428</td>\n",
       "      <td>2</td>\n",
       "      <td>1</td>\n",
       "      <td>0</td>\n",
       "      <td>1</td>\n",
       "      <td>1</td>\n",
       "      <td>1</td>\n",
       "      <td>1</td>\n",
       "    </tr>\n",
       "    <tr>\n",
       "      <th>14367</th>\n",
       "      <td>63.403899</td>\n",
       "      <td>58.011177</td>\n",
       "      <td>1</td>\n",
       "      <td>1</td>\n",
       "      <td>0</td>\n",
       "      <td>0</td>\n",
       "      <td>1</td>\n",
       "      <td>1</td>\n",
       "      <td>2</td>\n",
       "    </tr>\n",
       "    <tr>\n",
       "      <th>14368</th>\n",
       "      <td>27.617172</td>\n",
       "      <td>2.371818</td>\n",
       "      <td>4</td>\n",
       "      <td>2</td>\n",
       "      <td>0</td>\n",
       "      <td>1</td>\n",
       "      <td>0</td>\n",
       "      <td>1</td>\n",
       "      <td>2</td>\n",
       "    </tr>\n",
       "    <tr>\n",
       "      <th>14369</th>\n",
       "      <td>23.047970</td>\n",
       "      <td>15.406901</td>\n",
       "      <td>4</td>\n",
       "      <td>2</td>\n",
       "      <td>0</td>\n",
       "      <td>0</td>\n",
       "      <td>1</td>\n",
       "      <td>1</td>\n",
       "      <td>3</td>\n",
       "    </tr>\n",
       "  </tbody>\n",
       "</table>\n",
       "<p>14370 rows × 9 columns</p>\n",
       "</div>"
      ],
      "text/plain": [
       "       segmented_ita  direct_ita  kinyananjui_class  empirical_class  \\\n",
       "0         -10.052935   -6.445718                  6                5   \n",
       "1         -25.748827  -71.203786                  6                6   \n",
       "2          45.145774   48.991663                  2                1   \n",
       "3          44.147618  -97.912738                  2                1   \n",
       "4          29.865609    9.164579                  3                2   \n",
       "...              ...         ...                ...              ...   \n",
       "14365      32.057748   42.777683                  3                2   \n",
       "14366      51.907781   52.943428                  2                1   \n",
       "14367      63.403899   58.011177                  1                1   \n",
       "14368      27.617172    2.371818                  4                2   \n",
       "14369      23.047970   15.406901                  4                2   \n",
       "\n",
       "       kinyananjui_hit  empirical_hit  kinyananjui_relaxed_hit  \\\n",
       "0                    0              0                        0   \n",
       "1                    0              0                        1   \n",
       "2                    1              0                        1   \n",
       "3                    1              0                        1   \n",
       "4                    1              0                        1   \n",
       "...                ...            ...                      ...   \n",
       "14365                0              0                        1   \n",
       "14366                0              1                        1   \n",
       "14367                0              0                        1   \n",
       "14368                0              1                        0   \n",
       "14369                0              0                        1   \n",
       "\n",
       "       empirical_relaxed_hit  real_class  \n",
       "0                          1           4  \n",
       "1                          1           5  \n",
       "2                          1           2  \n",
       "3                          1           2  \n",
       "4                          1           3  \n",
       "...                      ...         ...  \n",
       "14365                      0           4  \n",
       "14366                      1           1  \n",
       "14367                      1           2  \n",
       "14368                      1           2  \n",
       "14369                      1           3  \n",
       "\n",
       "[14370 rows x 9 columns]"
      ]
     },
     "execution_count": 3,
     "metadata": {},
     "output_type": "execute_result"
    }
   ],
   "source": [
    "results"
   ]
  },
  {
   "cell_type": "markdown",
   "id": "aa589bc1",
   "metadata": {},
   "source": [
    "Vamos começar analisando a diferença do extrair a informação da imagem inteira e da região segmentada:"
   ]
  },
  {
   "cell_type": "code",
   "execution_count": 4,
   "id": "93a3b97c",
   "metadata": {},
   "outputs": [
    {
     "data": {
      "text/html": [
       "<div>\n",
       "<style scoped>\n",
       "    .dataframe tbody tr th:only-of-type {\n",
       "        vertical-align: middle;\n",
       "    }\n",
       "\n",
       "    .dataframe tbody tr th {\n",
       "        vertical-align: top;\n",
       "    }\n",
       "\n",
       "    .dataframe thead th {\n",
       "        text-align: right;\n",
       "    }\n",
       "</style>\n",
       "<table border=\"1\" class=\"dataframe\">\n",
       "  <thead>\n",
       "    <tr style=\"text-align: right;\">\n",
       "      <th></th>\n",
       "      <th>segmented_ita</th>\n",
       "      <th>direct_ita</th>\n",
       "    </tr>\n",
       "  </thead>\n",
       "  <tbody>\n",
       "    <tr>\n",
       "      <th>count</th>\n",
       "      <td>14350.000000</td>\n",
       "      <td>14370.000000</td>\n",
       "    </tr>\n",
       "    <tr>\n",
       "      <th>mean</th>\n",
       "      <td>23.950743</td>\n",
       "      <td>17.423269</td>\n",
       "    </tr>\n",
       "    <tr>\n",
       "      <th>std</th>\n",
       "      <td>29.580865</td>\n",
       "      <td>44.137136</td>\n",
       "    </tr>\n",
       "    <tr>\n",
       "      <th>min</th>\n",
       "      <td>-133.034696</td>\n",
       "      <td>-179.453924</td>\n",
       "    </tr>\n",
       "    <tr>\n",
       "      <th>25%</th>\n",
       "      <td>6.969608</td>\n",
       "      <td>-2.777447</td>\n",
       "    </tr>\n",
       "    <tr>\n",
       "      <th>50%</th>\n",
       "      <td>24.123108</td>\n",
       "      <td>20.177410</td>\n",
       "    </tr>\n",
       "    <tr>\n",
       "      <th>75%</th>\n",
       "      <td>43.906130</td>\n",
       "      <td>45.198815</td>\n",
       "    </tr>\n",
       "    <tr>\n",
       "      <th>max</th>\n",
       "      <td>124.480807</td>\n",
       "      <td>178.601928</td>\n",
       "    </tr>\n",
       "  </tbody>\n",
       "</table>\n",
       "</div>"
      ],
      "text/plain": [
       "       segmented_ita    direct_ita\n",
       "count   14350.000000  14370.000000\n",
       "mean       23.950743     17.423269\n",
       "std        29.580865     44.137136\n",
       "min      -133.034696   -179.453924\n",
       "25%         6.969608     -2.777447\n",
       "50%        24.123108     20.177410\n",
       "75%        43.906130     45.198815\n",
       "max       124.480807    178.601928"
      ]
     },
     "execution_count": 4,
     "metadata": {},
     "output_type": "execute_result"
    }
   ],
   "source": [
    "results[['segmented_ita','direct_ita']].describe()"
   ]
  },
  {
   "cell_type": "code",
   "execution_count": 5,
   "id": "6660408b",
   "metadata": {},
   "outputs": [
    {
     "data": {
      "text/plain": [
       "<AxesSubplot:>"
      ]
     },
     "execution_count": 5,
     "metadata": {},
     "output_type": "execute_result"
    },
    {
     "data": {
      "image/png": "[encoded data removed]",
      "text/plain": [
       "<Figure size 432x288 with 1 Axes>"
      ]
     },
     "metadata": {
      "needs_background": "light"
     },
     "output_type": "display_data"
    }
   ],
   "source": [
    "#fig = plt.figure(figsize =(10, 7))\n",
    " \n",
    "# Creating plot\n",
    "results[['segmented_ita','direct_ita']].plot(kind='box')"
   ]
  },
  {
   "cell_type": "markdown",
   "id": "6fef2561",
   "metadata": {},
   "source": [
    "É possível ver que a extração direta apresenta variância muito maior, com uma maior presença de outliers. Considerendo que este é um dataset dermatoscópico, boa parte das imagens já são apenas de pele, porém um dataset de faces apresentaria uma necessidade ainda maior de segmentação."
   ]
  },
  {
   "cell_type": "markdown",
   "id": "d1770314",
   "metadata": {},
   "source": [
    "Vamos agora analisar os resultados. Existem duas tabelas de classificação, a utilizada por Kinyananjui e a utilizado pelos autores do paper Fitzpatrick17k que foram calculados de maneira a maximizar o acerto neste dataset (parece uma abordagem bayseana?). Vamos comparar o resultado das duas no treino."
   ]
  },
  {
   "cell_type": "code",
   "execution_count": 6,
   "id": "59014f35",
   "metadata": {},
   "outputs": [
    {
     "name": "stdout",
     "output_type": "stream",
     "text": [
      "Acurácia obtida utilizando tabela Kinyananjui: 25.89%\n",
      "Acurácia obtida utilizando valores empíricos: 34.01%\n"
     ]
    }
   ],
   "source": [
    "n_rows = len(results)\n",
    "\n",
    "print(f\"Acurácia obtida utilizando tabela Kinyananjui: {results['kinyananjui_hit'].sum()/n_rows*100:.2f}%\")\n",
    "print(f\"Acurácia obtida utilizando valores empíricos: {results['empirical_hit'].sum()/n_rows*100:.2f}%\")"
   ]
  },
  {
   "cell_type": "markdown",
   "id": "0a70f209",
   "metadata": {},
   "source": [
    "Acerto superior ao classificador aleatório (16.66%)"
   ]
  },
  {
   "cell_type": "markdown",
   "id": "51f22cf9",
   "metadata": {},
   "source": [
    "Também é utilizado no artigo a métrica de acurácia considerando um nível de erro, ou seja, caso a classe verdadeira seja 3, o classificador terá acertado se responder 4 ou 2."
   ]
  },
  {
   "cell_type": "code",
   "execution_count": 7,
   "id": "f13925f2",
   "metadata": {},
   "outputs": [
    {
     "name": "stdout",
     "output_type": "stream",
     "text": [
      "Acurácia obtida utilizando tabela Kinyananjui: 61.29%\n",
      "Acurácia obtida utilizando valores empíricos: 75.06%\n"
     ]
    }
   ],
   "source": [
    "n_rows = len(results)\n",
    "\n",
    "print(f\"Acurácia obtida utilizando tabela Kinyananjui: {results['kinyananjui_relaxed_hit'].sum()/n_rows*100:.2f}%\")\n",
    "print(f\"Acurácia obtida utilizando valores empíricos: {results['empirical_relaxed_hit'].sum()/n_rows*100:.2f}%\")"
   ]
  },
  {
   "cell_type": "markdown",
   "id": "acdbbe4a",
   "metadata": {},
   "source": [
    "Podemos selecionar também o acerto por classes:"
   ]
  },
  {
   "cell_type": "code",
   "execution_count": 8,
   "id": "61a18fa0",
   "metadata": {},
   "outputs": [
    {
     "name": "stdout",
     "output_type": "stream",
     "text": [
      "fitzpatrick\tN. Instancias\tAcurácia_K\tAcurácia_E\tAcurácia_RK\tAcurácia_RE\n",
      "1\t\t2651\t\t43.30% \t\t64.32% \t\t62.84% \t\t79.33% \n",
      "2\t\t4303\t\t18.89% \t\t27.59% \t\t59.31% \t\t80.29% \n",
      "3\t\t2984\t\t23.06% \t\t22.79% \t\t53.82% \t\t71.58% \n",
      "4\t\t2507\t\t18.31% \t\t26.09% \t\t52.33% \t\t70.84% \n",
      "5\t\t1367\t\t14.41% \t\t36.14% \t\t89.10% \t\t70.01% \n",
      "6\t\t558\t\t74.55% \t\t29.93% \t\t81.36% \t\t64.34% \n"
     ]
    }
   ],
   "source": [
    "def results_per_class(results):\n",
    "    print(\"fitzpatrick\\tN. Instancias\\tAcurácia_K\\tAcurácia_E\\tAcurácia_RK\\tAcurácia_RE\")\n",
    "    for i in range(1,7):\n",
    "        n_rows = len(results.loc[results['real_class']==i])\n",
    "        print(f\"{i}\\t\\t{n_rows}\",end='')\n",
    "        print(f\"\\t\\t{results.loc[results['real_class']==i]['kinyananjui_hit'].sum()/n_rows*100:.2f}% \",end='')\n",
    "        print(f\"\\t\\t{results.loc[results['real_class']==i]['empirical_hit'].sum()/n_rows*100:.2f}% \",end='')\n",
    "        print(f\"\\t\\t{results.loc[results['real_class']==i]['kinyananjui_relaxed_hit'].sum()/n_rows*100:.2f}% \",end='')\n",
    "        print(f\"\\t\\t{results.loc[results['real_class']==i]['empirical_relaxed_hit'].sum()/n_rows*100:.2f}% \",end='')\n",
    "        print()\n",
    "results_per_class(results)"
   ]
  },
  {
   "cell_type": "markdown",
   "id": "ae5e6854",
   "metadata": {},
   "source": [
    "Vemos que existe uma grande variância nos erros em relação a cada classe e quando utilizamos a regra \"relaxada\" essa variância diminui. "
   ]
  },
  {
   "cell_type": "markdown",
   "id": "c5d47d44",
   "metadata": {},
   "source": [
    "Eu mantive um split de treino teste, mesmo o método não precisando de treino pois para comparar com redes neurais é importante ter os datasets separados. Podemos realizar a mesma análise no split de teste agora."
   ]
  },
  {
   "cell_type": "code",
   "execution_count": 9,
   "id": "ca1e9860",
   "metadata": {},
   "outputs": [
    {
     "data": {
      "text/html": [
       "<div>\n",
       "<style scoped>\n",
       "    .dataframe tbody tr th:only-of-type {\n",
       "        vertical-align: middle;\n",
       "    }\n",
       "\n",
       "    .dataframe tbody tr th {\n",
       "        vertical-align: top;\n",
       "    }\n",
       "\n",
       "    .dataframe thead th {\n",
       "        text-align: right;\n",
       "    }\n",
       "</style>\n",
       "<table border=\"1\" class=\"dataframe\">\n",
       "  <thead>\n",
       "    <tr style=\"text-align: right;\">\n",
       "      <th></th>\n",
       "      <th>segmented_ita</th>\n",
       "      <th>direct_ita</th>\n",
       "      <th>kinyananjui_class</th>\n",
       "      <th>empirical_class</th>\n",
       "      <th>kinyananjui_hit</th>\n",
       "      <th>empirical_hit</th>\n",
       "      <th>kinyananjui_relaxed_hit</th>\n",
       "      <th>empirical_relaxed_hit</th>\n",
       "      <th>real_class</th>\n",
       "    </tr>\n",
       "  </thead>\n",
       "  <tbody>\n",
       "    <tr>\n",
       "      <th>0</th>\n",
       "      <td>50.969892</td>\n",
       "      <td>63.990745</td>\n",
       "      <td>2</td>\n",
       "      <td>1</td>\n",
       "      <td>0</td>\n",
       "      <td>1</td>\n",
       "      <td>1</td>\n",
       "      <td>1</td>\n",
       "      <td>1</td>\n",
       "    </tr>\n",
       "    <tr>\n",
       "      <th>1</th>\n",
       "      <td>28.257666</td>\n",
       "      <td>22.301385</td>\n",
       "      <td>3</td>\n",
       "      <td>2</td>\n",
       "      <td>0</td>\n",
       "      <td>0</td>\n",
       "      <td>0</td>\n",
       "      <td>1</td>\n",
       "      <td>1</td>\n",
       "    </tr>\n",
       "    <tr>\n",
       "      <th>2</th>\n",
       "      <td>-50.069881</td>\n",
       "      <td>-78.349106</td>\n",
       "      <td>6</td>\n",
       "      <td>6</td>\n",
       "      <td>0</td>\n",
       "      <td>0</td>\n",
       "      <td>0</td>\n",
       "      <td>0</td>\n",
       "      <td>2</td>\n",
       "    </tr>\n",
       "    <tr>\n",
       "      <th>3</th>\n",
       "      <td>23.588209</td>\n",
       "      <td>79.484307</td>\n",
       "      <td>4</td>\n",
       "      <td>2</td>\n",
       "      <td>1</td>\n",
       "      <td>0</td>\n",
       "      <td>1</td>\n",
       "      <td>0</td>\n",
       "      <td>4</td>\n",
       "    </tr>\n",
       "    <tr>\n",
       "      <th>4</th>\n",
       "      <td>25.791223</td>\n",
       "      <td>23.413430</td>\n",
       "      <td>4</td>\n",
       "      <td>2</td>\n",
       "      <td>0</td>\n",
       "      <td>0</td>\n",
       "      <td>1</td>\n",
       "      <td>1</td>\n",
       "      <td>3</td>\n",
       "    </tr>\n",
       "  </tbody>\n",
       "</table>\n",
       "</div>"
      ],
      "text/plain": [
       "   segmented_ita  direct_ita  kinyananjui_class  empirical_class  \\\n",
       "0      50.969892   63.990745                  2                1   \n",
       "1      28.257666   22.301385                  3                2   \n",
       "2     -50.069881  -78.349106                  6                6   \n",
       "3      23.588209   79.484307                  4                2   \n",
       "4      25.791223   23.413430                  4                2   \n",
       "\n",
       "   kinyananjui_hit  empirical_hit  kinyananjui_relaxed_hit  \\\n",
       "0                0              1                        1   \n",
       "1                0              0                        0   \n",
       "2                0              0                        0   \n",
       "3                1              0                        1   \n",
       "4                0              0                        1   \n",
       "\n",
       "   empirical_relaxed_hit  real_class  \n",
       "0                      1           1  \n",
       "1                      1           1  \n",
       "2                      0           2  \n",
       "3                      0           4  \n",
       "4                      1           3  "
      ]
     },
     "execution_count": 9,
     "metadata": {},
     "output_type": "execute_result"
    }
   ],
   "source": [
    "results = pd.read_csv('./baseline_test_results.csv')\n",
    "results.head()"
   ]
  },
  {
   "cell_type": "code",
   "execution_count": 10,
   "id": "4cd7a746",
   "metadata": {},
   "outputs": [
    {
     "data": {
      "text/html": [
       "<div>\n",
       "<style scoped>\n",
       "    .dataframe tbody tr th:only-of-type {\n",
       "        vertical-align: middle;\n",
       "    }\n",
       "\n",
       "    .dataframe tbody tr th {\n",
       "        vertical-align: top;\n",
       "    }\n",
       "\n",
       "    .dataframe thead th {\n",
       "        text-align: right;\n",
       "    }\n",
       "</style>\n",
       "<table border=\"1\" class=\"dataframe\">\n",
       "  <thead>\n",
       "    <tr style=\"text-align: right;\">\n",
       "      <th></th>\n",
       "      <th>segmented_ita</th>\n",
       "      <th>direct_ita</th>\n",
       "    </tr>\n",
       "  </thead>\n",
       "  <tbody>\n",
       "    <tr>\n",
       "      <th>count</th>\n",
       "      <td>1592.000000</td>\n",
       "      <td>1596.000000</td>\n",
       "    </tr>\n",
       "    <tr>\n",
       "      <th>mean</th>\n",
       "      <td>24.739206</td>\n",
       "      <td>19.026158</td>\n",
       "    </tr>\n",
       "    <tr>\n",
       "      <th>std</th>\n",
       "      <td>29.787749</td>\n",
       "      <td>45.082201</td>\n",
       "    </tr>\n",
       "    <tr>\n",
       "      <th>min</th>\n",
       "      <td>-103.874574</td>\n",
       "      <td>-171.672301</td>\n",
       "    </tr>\n",
       "    <tr>\n",
       "      <th>25%</th>\n",
       "      <td>6.622244</td>\n",
       "      <td>-3.848020</td>\n",
       "    </tr>\n",
       "    <tr>\n",
       "      <th>50%</th>\n",
       "      <td>25.754333</td>\n",
       "      <td>22.418638</td>\n",
       "    </tr>\n",
       "    <tr>\n",
       "      <th>75%</th>\n",
       "      <td>46.081423</td>\n",
       "      <td>48.036156</td>\n",
       "    </tr>\n",
       "    <tr>\n",
       "      <th>max</th>\n",
       "      <td>100.174113</td>\n",
       "      <td>174.996760</td>\n",
       "    </tr>\n",
       "  </tbody>\n",
       "</table>\n",
       "</div>"
      ],
      "text/plain": [
       "       segmented_ita   direct_ita\n",
       "count    1592.000000  1596.000000\n",
       "mean       24.739206    19.026158\n",
       "std        29.787749    45.082201\n",
       "min      -103.874574  -171.672301\n",
       "25%         6.622244    -3.848020\n",
       "50%        25.754333    22.418638\n",
       "75%        46.081423    48.036156\n",
       "max       100.174113   174.996760"
      ]
     },
     "execution_count": 10,
     "metadata": {},
     "output_type": "execute_result"
    }
   ],
   "source": [
    "results[['segmented_ita','direct_ita']].describe()"
   ]
  },
  {
   "cell_type": "code",
   "execution_count": 11,
   "id": "ddde8069",
   "metadata": {},
   "outputs": [
    {
     "data": {
      "text/plain": [
       "<AxesSubplot:>"
      ]
     },
     "execution_count": 11,
     "metadata": {},
     "output_type": "execute_result"
    },
    {
     "data": {
      "image/png": "[encoded data removed]",
      "text/plain": [
       "<Figure size 432x288 with 1 Axes>"
      ]
     },
     "metadata": {
      "needs_background": "light"
     },
     "output_type": "display_data"
    }
   ],
   "source": [
    "#fig = plt.figure(figsize =(10, 7))\n",
    " \n",
    "# Creating plot\n",
    "results[['segmented_ita','direct_ita']].plot(kind='box')"
   ]
  },
  {
   "cell_type": "code",
   "execution_count": 12,
   "id": "e01f0d6d",
   "metadata": {},
   "outputs": [
    {
     "name": "stdout",
     "output_type": "stream",
     "text": [
      "Acurácia obtida utilizando tabela Kinyananjui: 27.44%\n",
      "Acurácia obtida utilizando valores empíricos: 33.96%\n"
     ]
    }
   ],
   "source": [
    "n_rows = len(results)\n",
    "\n",
    "print(f\"Acurácia obtida utilizando tabela Kinyananjui: {results['kinyananjui_hit'].sum()/n_rows*100:.2f}%\")\n",
    "print(f\"Acurácia obtida utilizando valores empíricos: {results['empirical_hit'].sum()/n_rows*100:.2f}%\")"
   ]
  },
  {
   "cell_type": "code",
   "execution_count": 13,
   "id": "9bb1735e",
   "metadata": {},
   "outputs": [
    {
     "name": "stdout",
     "output_type": "stream",
     "text": [
      "Acurácia obtida utilizando tabela Kinyananjui: 62.47%\n",
      "Acurácia obtida utilizando valores empíricos: 73.93%\n"
     ]
    }
   ],
   "source": [
    "n_rows = len(results)\n",
    "\n",
    "print(f\"Acurácia obtida utilizando tabela Kinyananjui: {results['kinyananjui_relaxed_hit'].sum()/n_rows*100:.2f}%\")\n",
    "print(f\"Acurácia obtida utilizando valores empíricos: {results['empirical_relaxed_hit'].sum()/n_rows*100:.2f}%\")"
   ]
  },
  {
   "cell_type": "code",
   "execution_count": 14,
   "id": "be6636c9",
   "metadata": {},
   "outputs": [
    {
     "name": "stdout",
     "output_type": "stream",
     "text": [
      "fitzpatrick\tN. Instancias\tAcurácia_K\tAcurácia_E\tAcurácia_RK\tAcurácia_RE\n",
      "1\t\t289\t\t48.79% \t\t68.51% \t\t67.47% \t\t81.31% \n",
      "2\t\t493\t\t19.47% \t\t26.17% \t\t59.63% \t\t80.12% \n",
      "3\t\t315\t\t26.35% \t\t20.00% \t\t56.51% \t\t67.62% \n",
      "4\t\t269\t\t14.13% \t\t27.88% \t\t48.33% \t\t65.80% \n",
      "5\t\t160\t\t16.88% \t\t32.50% \t\t90.62% \t\t68.75% \n",
      "6\t\t70\t\t75.71% \t\t35.71% \t\t78.57% \t\t71.43% \n"
     ]
    }
   ],
   "source": [
    "results_per_class(results)"
   ]
  },
  {
   "cell_type": "markdown",
   "id": "8e0527fd",
   "metadata": {},
   "source": [
    "Resultado bem igual entre treino e teste, já que o método não envolve treinamento não ocorre overfitting"
   ]
  }
 ],
 "metadata": {
  "kernelspec": {
   "display_name": "Python 3 (ipykernel)",
   "language": "python",
   "name": "python3"
  },
  "language_info": {
   "codemirror_mode": {
    "name": "ipython",
    "version": 3
   },
   "file_extension": ".py",
   "mimetype": "text/x-python",
   "name": "python",
   "nbconvert_exporter": "python",
   "pygments_lexer": "ipython3",
   "version": "3.8.8"
  }
 },
 "nbformat": 4,
 "nbformat_minor": 5
}
