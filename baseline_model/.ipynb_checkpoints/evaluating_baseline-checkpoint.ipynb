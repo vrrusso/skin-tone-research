{
 "cells": [
  {
   "cell_type": "code",
   "execution_count": 1,
   "id": "c462342e",
   "metadata": {},
   "outputs": [],
   "source": [
    "from rule_based_segmentation import mask_non_skin\n",
    "from ita_extraction import ITA, empirical_classification, kinyananjui_classification\n",
    "import os\n",
    "import pandas as pd\n",
    "import imageio as im\n",
    "import time"
   ]
  },
  {
   "cell_type": "code",
   "execution_count": 2,
   "id": "2d808b95",
   "metadata": {},
   "outputs": [],
   "source": [
    "def func(file_name,real_class):\n",
    "    image = im.imread(file_name)\n",
    "    direct_ita = ITA(image)\n",
    "    skin,__ = mask_non_skin(image)\n",
    "    segmented_ita = ITA(skin)\n",
    "    \n",
    "    #kinyananjui_class_direct_ita = kinyananjui_classification(direct_ita)\n",
    "    #empirical_class_direct_ita = empirical_classification(direct_ita)\n",
    "    kinyananjui_class_segmented_ita = kinyananjui_classification(segmented_ita)\n",
    "    empirical_class_segmented_ita = empirical_classification(segmented_ita)\n",
    "    \n",
    "    #direct_kinyananjui_hit = 1 if kinyananjui_class_direct_ita == real_class else 0\n",
    "    #direct_empirical_hit = 1 if empirical_class_direct_ita == real_class else 0\n",
    "    kinyananjui_hit = 1 if kinyananjui_class_segmented_ita == real_class else 0\n",
    "    empirical_hit = 1 if empirical_class_segmented_ita == real_class else 0\n",
    "    \n",
    "    \n",
    "    #direct_kinyananjui_relaxed_hit = 1 if kinyananjui_class_direct_ita >= real_class-1 and kinyananjui_class_direct_ita <= real_class+1 else 0\n",
    "    #direct_empirical_relaxed_hit = 1 if empirical_class_direct_ita >= real_class-1 and empirical_class_direct_ita <= real_class+1 else 0\n",
    "    kinyananjui_relaxed_hit = 1 if kinyananjui_class_segmented_ita >= real_class-1 and kinyananjui_class_segmented_ita <= real_class+1 else 0\n",
    "    empirical_relaxed_hit = 1 if empirical_class_segmented_ita >= real_class-1 and empirical_class_segmented_ita <= real_class+1 else 0\n",
    "    \n",
    "    return segmented_ita,direct_ita,kinyananjui_class_segmented_ita,empirical_class_segmented_ita,kinyananjui_hit,empirical_hit,kinyananjui_relaxed_hit,empirical_relaxed_hit,real_class"
   ]
  },
  {
   "cell_type": "code",
   "execution_count": 3,
   "id": "ccc562e0",
   "metadata": {},
   "outputs": [
    {
     "name": "stdout",
     "output_type": "stream",
     "text": [
      "Número de instâncias com -1 no label:559\n",
      "Dropando estas instâncias...\n"
     ]
    },
    {
     "data": {
      "text/html": [
       "<div>\n",
       "<style scoped>\n",
       "    .dataframe tbody tr th:only-of-type {\n",
       "        vertical-align: middle;\n",
       "    }\n",
       "\n",
       "    .dataframe tbody tr th {\n",
       "        vertical-align: top;\n",
       "    }\n",
       "\n",
       "    .dataframe thead th {\n",
       "        text-align: right;\n",
       "    }\n",
       "</style>\n",
       "<table border=\"1\" class=\"dataframe\">\n",
       "  <thead>\n",
       "    <tr style=\"text-align: right;\">\n",
       "      <th></th>\n",
       "      <th>md5hash</th>\n",
       "      <th>fitzpatrick</th>\n",
       "      <th>label</th>\n",
       "      <th>nine_partition_label</th>\n",
       "      <th>three_partition_label</th>\n",
       "      <th>url</th>\n",
       "      <th>url_alphanum</th>\n",
       "    </tr>\n",
       "  </thead>\n",
       "  <tbody>\n",
       "    <tr>\n",
       "      <th>0</th>\n",
       "      <td>dae2d6176ea28b4d991c573c8320b0cf</td>\n",
       "      <td>4</td>\n",
       "      <td>lichen planus</td>\n",
       "      <td>inflammatory</td>\n",
       "      <td>non-neoplastic</td>\n",
       "      <td>http://atlasdermatologico.com.br/img?imageId=3739</td>\n",
       "      <td>httpwwwatlasdermatologicocombrimgimageId3739.jpg</td>\n",
       "    </tr>\n",
       "    <tr>\n",
       "      <th>1</th>\n",
       "      <td>dcba3efe0fe28be2b0032df9470c320d</td>\n",
       "      <td>5</td>\n",
       "      <td>behcets disease</td>\n",
       "      <td>inflammatory</td>\n",
       "      <td>non-neoplastic</td>\n",
       "      <td>http://atlasdermatologico.com.br/img?imageId=8633</td>\n",
       "      <td>httpwwwatlasdermatologicocombrimgimageId8633.jpg</td>\n",
       "    </tr>\n",
       "    <tr>\n",
       "      <th>2</th>\n",
       "      <td>9a9ded2de5e2c20a90cdfc2971e2e155</td>\n",
       "      <td>2</td>\n",
       "      <td>pityriasis lichenoides chronica</td>\n",
       "      <td>inflammatory</td>\n",
       "      <td>non-neoplastic</td>\n",
       "      <td>https://www.dermaamin.com/site/images/clinical...</td>\n",
       "      <td>httpwwwdermaamincomsiteimagesclinicalpicppityr...</td>\n",
       "    </tr>\n",
       "    <tr>\n",
       "      <th>3</th>\n",
       "      <td>d6166c9947e7e99915ff4d6907ddec44</td>\n",
       "      <td>2</td>\n",
       "      <td>mycosis fungoides</td>\n",
       "      <td>malignant cutaneous lymphoma</td>\n",
       "      <td>malignant</td>\n",
       "      <td>http://atlasdermatologico.com.br/img?imageId=4594</td>\n",
       "      <td>httpwwwatlasdermatologicocombrimgimageId4594.jpg</td>\n",
       "    </tr>\n",
       "    <tr>\n",
       "      <th>4</th>\n",
       "      <td>8ea58508e89d61a98320acb03139b8bb</td>\n",
       "      <td>3</td>\n",
       "      <td>urticaria pigmentosa</td>\n",
       "      <td>inflammatory</td>\n",
       "      <td>non-neoplastic</td>\n",
       "      <td>https://www.dermaamin.com/site/images/clinical...</td>\n",
       "      <td>httpwwwdermaamincomsiteimagesclinicalpicuurtic...</td>\n",
       "    </tr>\n",
       "  </tbody>\n",
       "</table>\n",
       "</div>"
      ],
      "text/plain": [
       "                            md5hash  fitzpatrick  \\\n",
       "0  dae2d6176ea28b4d991c573c8320b0cf            4   \n",
       "1  dcba3efe0fe28be2b0032df9470c320d            5   \n",
       "2  9a9ded2de5e2c20a90cdfc2971e2e155            2   \n",
       "3  d6166c9947e7e99915ff4d6907ddec44            2   \n",
       "4  8ea58508e89d61a98320acb03139b8bb            3   \n",
       "\n",
       "                             label          nine_partition_label  \\\n",
       "0                    lichen planus                  inflammatory   \n",
       "1                  behcets disease                  inflammatory   \n",
       "2  pityriasis lichenoides chronica                  inflammatory   \n",
       "3                mycosis fungoides  malignant cutaneous lymphoma   \n",
       "4             urticaria pigmentosa                  inflammatory   \n",
       "\n",
       "  three_partition_label                                                url  \\\n",
       "0        non-neoplastic  http://atlasdermatologico.com.br/img?imageId=3739   \n",
       "1        non-neoplastic  http://atlasdermatologico.com.br/img?imageId=8633   \n",
       "2        non-neoplastic  https://www.dermaamin.com/site/images/clinical...   \n",
       "3             malignant  http://atlasdermatologico.com.br/img?imageId=4594   \n",
       "4        non-neoplastic  https://www.dermaamin.com/site/images/clinical...   \n",
       "\n",
       "                                        url_alphanum  \n",
       "0   httpwwwatlasdermatologicocombrimgimageId3739.jpg  \n",
       "1   httpwwwatlasdermatologicocombrimgimageId8633.jpg  \n",
       "2  httpwwwdermaamincomsiteimagesclinicalpicppityr...  \n",
       "3   httpwwwatlasdermatologicocombrimgimageId4594.jpg  \n",
       "4  httpwwwdermaamincomsiteimagesclinicalpicuurtic...  "
      ]
     },
     "execution_count": 3,
     "metadata": {},
     "output_type": "execute_result"
    }
   ],
   "source": [
    "df_test = pd.read_csv('../../datasets/fitzpatrick17k/fitzpatrick17k.csv')\n",
    "print(\"Número de instâncias com -1 no label:\"+str(len(df_test[df_test['fitzpatrick']== -1])))\n",
    "print(\"Dropando estas instâncias...\")\n",
    "df_test = df_test.drop(df_test[df_test['fitzpatrick']== -1].index,axis=0)\n",
    "df_test.head()"
   ]
  },
  {
   "cell_type": "code",
   "execution_count": 4,
   "id": "71dd5892",
   "metadata": {},
   "outputs": [],
   "source": [
    "image_dir = '../../datasets/fitzpatrick17k/images'"
   ]
  },
  {
   "cell_type": "code",
   "execution_count": 5,
   "id": "ebf71a12",
   "metadata": {},
   "outputs": [
    {
     "data": {
      "text/html": [
       "<div>\n",
       "<style scoped>\n",
       "    .dataframe tbody tr th:only-of-type {\n",
       "        vertical-align: middle;\n",
       "    }\n",
       "\n",
       "    .dataframe tbody tr th {\n",
       "        vertical-align: top;\n",
       "    }\n",
       "\n",
       "    .dataframe thead th {\n",
       "        text-align: right;\n",
       "    }\n",
       "</style>\n",
       "<table border=\"1\" class=\"dataframe\">\n",
       "  <thead>\n",
       "    <tr style=\"text-align: right;\">\n",
       "      <th></th>\n",
       "    </tr>\n",
       "  </thead>\n",
       "  <tbody>\n",
       "  </tbody>\n",
       "</table>\n",
       "</div>"
      ],
      "text/plain": [
       "Empty DataFrame\n",
       "Columns: []\n",
       "Index: []"
      ]
     },
     "execution_count": 5,
     "metadata": {},
     "output_type": "execute_result"
    }
   ],
   "source": [
    "df_result = pd.DataFrame()\n",
    "df_result"
   ]
  },
  {
   "cell_type": "code",
   "execution_count": null,
   "id": "4a2fab33",
   "metadata": {},
   "outputs": [
    {
     "name": "stderr",
     "output_type": "stream",
     "text": [
      "/opt/conda/lib/python3.8/site-packages/numpy/lib/nanfunctions.py:1664: RuntimeWarning: Degrees of freedom <= 0 for slice.\n",
      "  var = nanvar(a, axis=axis, dtype=dtype, out=out, ddof=ddof,\n",
      "/store/vrusso/skin-tone-research/baseline_model/ita_extraction.py:39: RuntimeWarning: Mean of empty slice\n",
      "  std, mean = np.nanstd(L), np.nanmean(L)\n",
      "/store/vrusso/skin-tone-research/baseline_model/ita_extraction.py:44: RuntimeWarning: Mean of empty slice\n",
      "  std, mean = np.nanstd(B), np.nanmean(B)\n",
      "/store/vrusso/skin-tone-research/baseline_model/ita_extraction.py:52: RuntimeWarning: Mean of empty slice\n",
      "  ITA = math.atan2(np.nanmean(L) - 50, np.nanmean(B)) * (180 / np.pi)\n"
     ]
    }
   ],
   "source": [
    "start = time.time()\n",
    "result = df_test.apply(lambda row: func(os.path.join(image_dir,row['md5hash']+'.jpg'),row['fitzpatrick']),axis=1)\n",
    "stop = time.time()\n",
    "stop-start"
   ]
  },
  {
   "cell_type": "code",
   "execution_count": null,
   "id": "39b3e408",
   "metadata": {},
   "outputs": [],
   "source": [
    "df_aux = pd.DataFrame(list(result))\n",
    "df_aux"
   ]
  },
  {
   "cell_type": "code",
   "execution_count": null,
   "id": "448377c7",
   "metadata": {},
   "outputs": [],
   "source": [
    "df_result['segmented_ita'] = df_aux[0]\n",
    "df_result['direct_ita'] = df_aux[1]\n",
    "df_result['kinyananjui_class'] = df_aux[2]\n",
    "df_result['empirical_class'] = df_aux[3]\n",
    "df_result['kinyananjui_hit'] = df_aux[4]\n",
    "df_result['empirical_hit'] = df_aux[5]\n",
    "df_result['kinyananjui_relaxed_hit'] = df_aux[6]\n",
    "df_result['empirical_relaxed_hit'] = df_aux[7]\n",
    "df_result['real_class'] = df_aux[8]\n",
    "\n",
    "\n",
    "\n",
    "df_result"
   ]
  },
  {
   "cell_type": "code",
   "execution_count": null,
   "id": "bcb68cde",
   "metadata": {},
   "outputs": [],
   "source": [
    "df_result.to_csv('baseline_results.csv',index=False)"
   ]
  }
 ],
 "metadata": {
  "kernelspec": {
   "display_name": "Python 3 (ipykernel)",
   "language": "python",
   "name": "python3"
  },
  "language_info": {
   "codemirror_mode": {
    "name": "ipython",
    "version": 3
   },
   "file_extension": ".py",
   "mimetype": "text/x-python",
   "name": "python",
   "nbconvert_exporter": "python",
   "pygments_lexer": "ipython3",
   "version": "3.8.8"
  }
 },
 "nbformat": 4,
 "nbformat_minor": 5
}
