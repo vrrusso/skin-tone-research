{
 "cells": [
  {
   "cell_type": "code",
   "execution_count": 1,
   "id": "f0abb393",
   "metadata": {},
   "outputs": [],
   "source": [
    "import pandas as pd\n",
    "from sklearn.model_selection import train_test_split"
   ]
  },
  {
   "cell_type": "code",
   "execution_count": 2,
   "id": "eb452fc4",
   "metadata": {},
   "outputs": [
    {
     "data": {
      "text/html": [
       "<div>\n",
       "<style scoped>\n",
       "    .dataframe tbody tr th:only-of-type {\n",
       "        vertical-align: middle;\n",
       "    }\n",
       "\n",
       "    .dataframe tbody tr th {\n",
       "        vertical-align: top;\n",
       "    }\n",
       "\n",
       "    .dataframe thead th {\n",
       "        text-align: right;\n",
       "    }\n",
       "</style>\n",
       "<table border=\"1\" class=\"dataframe\">\n",
       "  <thead>\n",
       "    <tr style=\"text-align: right;\">\n",
       "      <th></th>\n",
       "      <th>md5hash</th>\n",
       "      <th>fitzpatrick</th>\n",
       "      <th>label</th>\n",
       "      <th>nine_partition_label</th>\n",
       "      <th>three_partition_label</th>\n",
       "      <th>url</th>\n",
       "      <th>url_alphanum</th>\n",
       "    </tr>\n",
       "  </thead>\n",
       "  <tbody>\n",
       "    <tr>\n",
       "      <th>0</th>\n",
       "      <td>dae2d6176ea28b4d991c573c8320b0cf</td>\n",
       "      <td>4</td>\n",
       "      <td>lichen planus</td>\n",
       "      <td>inflammatory</td>\n",
       "      <td>non-neoplastic</td>\n",
       "      <td>http://atlasdermatologico.com.br/img?imageId=3739</td>\n",
       "      <td>httpwwwatlasdermatologicocombrimgimageId3739.jpg</td>\n",
       "    </tr>\n",
       "    <tr>\n",
       "      <th>1</th>\n",
       "      <td>dcba3efe0fe28be2b0032df9470c320d</td>\n",
       "      <td>5</td>\n",
       "      <td>behcets disease</td>\n",
       "      <td>inflammatory</td>\n",
       "      <td>non-neoplastic</td>\n",
       "      <td>http://atlasdermatologico.com.br/img?imageId=8633</td>\n",
       "      <td>httpwwwatlasdermatologicocombrimgimageId8633.jpg</td>\n",
       "    </tr>\n",
       "    <tr>\n",
       "      <th>2</th>\n",
       "      <td>9a9ded2de5e2c20a90cdfc2971e2e155</td>\n",
       "      <td>2</td>\n",
       "      <td>pityriasis lichenoides chronica</td>\n",
       "      <td>inflammatory</td>\n",
       "      <td>non-neoplastic</td>\n",
       "      <td>https://www.dermaamin.com/site/images/clinical...</td>\n",
       "      <td>httpwwwdermaamincomsiteimagesclinicalpicppityr...</td>\n",
       "    </tr>\n",
       "    <tr>\n",
       "      <th>3</th>\n",
       "      <td>d6166c9947e7e99915ff4d6907ddec44</td>\n",
       "      <td>2</td>\n",
       "      <td>mycosis fungoides</td>\n",
       "      <td>malignant cutaneous lymphoma</td>\n",
       "      <td>malignant</td>\n",
       "      <td>http://atlasdermatologico.com.br/img?imageId=4594</td>\n",
       "      <td>httpwwwatlasdermatologicocombrimgimageId4594.jpg</td>\n",
       "    </tr>\n",
       "    <tr>\n",
       "      <th>4</th>\n",
       "      <td>8ea58508e89d61a98320acb03139b8bb</td>\n",
       "      <td>3</td>\n",
       "      <td>urticaria pigmentosa</td>\n",
       "      <td>inflammatory</td>\n",
       "      <td>non-neoplastic</td>\n",
       "      <td>https://www.dermaamin.com/site/images/clinical...</td>\n",
       "      <td>httpwwwdermaamincomsiteimagesclinicalpicuurtic...</td>\n",
       "    </tr>\n",
       "  </tbody>\n",
       "</table>\n",
       "</div>"
      ],
      "text/plain": [
       "                            md5hash  fitzpatrick  \\\n",
       "0  dae2d6176ea28b4d991c573c8320b0cf            4   \n",
       "1  dcba3efe0fe28be2b0032df9470c320d            5   \n",
       "2  9a9ded2de5e2c20a90cdfc2971e2e155            2   \n",
       "3  d6166c9947e7e99915ff4d6907ddec44            2   \n",
       "4  8ea58508e89d61a98320acb03139b8bb            3   \n",
       "\n",
       "                             label          nine_partition_label  \\\n",
       "0                    lichen planus                  inflammatory   \n",
       "1                  behcets disease                  inflammatory   \n",
       "2  pityriasis lichenoides chronica                  inflammatory   \n",
       "3                mycosis fungoides  malignant cutaneous lymphoma   \n",
       "4             urticaria pigmentosa                  inflammatory   \n",
       "\n",
       "  three_partition_label                                                url  \\\n",
       "0        non-neoplastic  http://atlasdermatologico.com.br/img?imageId=3739   \n",
       "1        non-neoplastic  http://atlasdermatologico.com.br/img?imageId=8633   \n",
       "2        non-neoplastic  https://www.dermaamin.com/site/images/clinical...   \n",
       "3             malignant  http://atlasdermatologico.com.br/img?imageId=4594   \n",
       "4        non-neoplastic  https://www.dermaamin.com/site/images/clinical...   \n",
       "\n",
       "                                        url_alphanum  \n",
       "0   httpwwwatlasdermatologicocombrimgimageId3739.jpg  \n",
       "1   httpwwwatlasdermatologicocombrimgimageId8633.jpg  \n",
       "2  httpwwwdermaamincomsiteimagesclinicalpicppityr...  \n",
       "3   httpwwwatlasdermatologicocombrimgimageId4594.jpg  \n",
       "4  httpwwwdermaamincomsiteimagesclinicalpicuurtic...  "
      ]
     },
     "execution_count": 2,
     "metadata": {},
     "output_type": "execute_result"
    }
   ],
   "source": [
    "df = pd.read_csv('../../datasets/fitzpatrick17k/fitzpatrick17k.csv')\n",
    "df.head()"
   ]
  },
  {
   "cell_type": "code",
   "execution_count": 4,
   "id": "87f61c01",
   "metadata": {},
   "outputs": [
    {
     "name": "stdout",
     "output_type": "stream",
     "text": [
      "14872\n",
      "1653\n"
     ]
    }
   ],
   "source": [
    "df_train, df_test = train_test_split(df,test_size = 0.1, random_state=19,stratify=df['fitzpatrick'])\n",
    "print(len(df_train))\n",
    "print(len(df_test))"
   ]
  },
  {
   "cell_type": "code",
   "execution_count": 8,
   "id": "9acf7f6e",
   "metadata": {},
   "outputs": [
    {
     "data": {
      "text/html": [
       "<div>\n",
       "<style scoped>\n",
       "    .dataframe tbody tr th:only-of-type {\n",
       "        vertical-align: middle;\n",
       "    }\n",
       "\n",
       "    .dataframe tbody tr th {\n",
       "        vertical-align: top;\n",
       "    }\n",
       "\n",
       "    .dataframe thead th {\n",
       "        text-align: right;\n",
       "    }\n",
       "</style>\n",
       "<table border=\"1\" class=\"dataframe\">\n",
       "  <thead>\n",
       "    <tr style=\"text-align: right;\">\n",
       "      <th></th>\n",
       "      <th>fitzpatrick</th>\n",
       "    </tr>\n",
       "  </thead>\n",
       "  <tbody>\n",
       "    <tr>\n",
       "      <th>count</th>\n",
       "      <td>14872.000000</td>\n",
       "    </tr>\n",
       "    <tr>\n",
       "      <th>mean</th>\n",
       "      <td>2.685449</td>\n",
       "    </tr>\n",
       "    <tr>\n",
       "      <th>std</th>\n",
       "      <td>1.524386</td>\n",
       "    </tr>\n",
       "    <tr>\n",
       "      <th>min</th>\n",
       "      <td>-1.000000</td>\n",
       "    </tr>\n",
       "    <tr>\n",
       "      <th>25%</th>\n",
       "      <td>2.000000</td>\n",
       "    </tr>\n",
       "    <tr>\n",
       "      <th>50%</th>\n",
       "      <td>2.000000</td>\n",
       "    </tr>\n",
       "    <tr>\n",
       "      <th>75%</th>\n",
       "      <td>4.000000</td>\n",
       "    </tr>\n",
       "    <tr>\n",
       "      <th>max</th>\n",
       "      <td>6.000000</td>\n",
       "    </tr>\n",
       "  </tbody>\n",
       "</table>\n",
       "</div>"
      ],
      "text/plain": [
       "        fitzpatrick\n",
       "count  14872.000000\n",
       "mean       2.685449\n",
       "std        1.524386\n",
       "min       -1.000000\n",
       "25%        2.000000\n",
       "50%        2.000000\n",
       "75%        4.000000\n",
       "max        6.000000"
      ]
     },
     "execution_count": 8,
     "metadata": {},
     "output_type": "execute_result"
    }
   ],
   "source": [
    "df_train.describe()"
   ]
  },
  {
   "cell_type": "code",
   "execution_count": 9,
   "id": "65227f9a",
   "metadata": {},
   "outputs": [
    {
     "data": {
      "text/html": [
       "<div>\n",
       "<style scoped>\n",
       "    .dataframe tbody tr th:only-of-type {\n",
       "        vertical-align: middle;\n",
       "    }\n",
       "\n",
       "    .dataframe tbody tr th {\n",
       "        vertical-align: top;\n",
       "    }\n",
       "\n",
       "    .dataframe thead th {\n",
       "        text-align: right;\n",
       "    }\n",
       "</style>\n",
       "<table border=\"1\" class=\"dataframe\">\n",
       "  <thead>\n",
       "    <tr style=\"text-align: right;\">\n",
       "      <th></th>\n",
       "      <th>fitzpatrick</th>\n",
       "    </tr>\n",
       "  </thead>\n",
       "  <tbody>\n",
       "    <tr>\n",
       "      <th>count</th>\n",
       "      <td>1653.000000</td>\n",
       "    </tr>\n",
       "    <tr>\n",
       "      <th>mean</th>\n",
       "      <td>2.685420</td>\n",
       "    </tr>\n",
       "    <tr>\n",
       "      <th>std</th>\n",
       "      <td>1.525493</td>\n",
       "    </tr>\n",
       "    <tr>\n",
       "      <th>min</th>\n",
       "      <td>-1.000000</td>\n",
       "    </tr>\n",
       "    <tr>\n",
       "      <th>25%</th>\n",
       "      <td>2.000000</td>\n",
       "    </tr>\n",
       "    <tr>\n",
       "      <th>50%</th>\n",
       "      <td>2.000000</td>\n",
       "    </tr>\n",
       "    <tr>\n",
       "      <th>75%</th>\n",
       "      <td>4.000000</td>\n",
       "    </tr>\n",
       "    <tr>\n",
       "      <th>max</th>\n",
       "      <td>6.000000</td>\n",
       "    </tr>\n",
       "  </tbody>\n",
       "</table>\n",
       "</div>"
      ],
      "text/plain": [
       "       fitzpatrick\n",
       "count  1653.000000\n",
       "mean      2.685420\n",
       "std       1.525493\n",
       "min      -1.000000\n",
       "25%       2.000000\n",
       "50%       2.000000\n",
       "75%       4.000000\n",
       "max       6.000000"
      ]
     },
     "execution_count": 9,
     "metadata": {},
     "output_type": "execute_result"
    }
   ],
   "source": [
    "df_test.describe()"
   ]
  },
  {
   "cell_type": "code",
   "execution_count": 12,
   "id": "a3fa73d2",
   "metadata": {},
   "outputs": [
    {
     "name": "stdout",
     "output_type": "stream",
     "text": [
      "-1|      3.38\n",
      "1|     17.79\n",
      "2|     29.02\n",
      "3|     19.96\n",
      "4|     16.80\n",
      "5|      9.24\n",
      "6|      3.80\n"
     ]
    }
   ],
   "source": [
    "\n",
    "def get_fractions(df):\n",
    "    df_grouped = df.groupby(['fitzpatrick'])['md5hash'].count()\n",
    "    total = len(df)\n",
    "    skin_tones = [-1,1,2,3,4,5,6]\n",
    "    qtds = [ df_grouped[i]/total *100 for i in skin_tones]\n",
    "    for tone,qtd in zip(skin_tones,qtds):\n",
    "      print(f\"{tone}|{qtd:10.2f}\")\n",
    "    \n",
    "get_fractions(df_train)"
   ]
  },
  {
   "cell_type": "code",
   "execution_count": 13,
   "id": "2c016fb9",
   "metadata": {},
   "outputs": [
    {
     "name": "stdout",
     "output_type": "stream",
     "text": [
      "-1|      3.39\n",
      "1|     17.79\n",
      "2|     29.04\n",
      "3|     19.96\n",
      "4|     16.76\n",
      "5|      9.26\n",
      "6|      3.81\n"
     ]
    }
   ],
   "source": [
    "get_fractions(df_test)"
   ]
  },
  {
   "cell_type": "code",
   "execution_count": 16,
   "id": "5c90affe",
   "metadata": {},
   "outputs": [],
   "source": [
    "df_train.to_csv('../../datasets/fitzpatrick17k/fitzpatrick17k_train.csv',index=False)\n",
    "df_test.to_csv('../../datasets/fitzpatrick17k/fitzpatrick17k_test.csv',index=False)"
   ]
  }
 ],
 "metadata": {
  "kernelspec": {
   "display_name": "Python 3 (ipykernel)",
   "language": "python",
   "name": "python3"
  },
  "language_info": {
   "codemirror_mode": {
    "name": "ipython",
    "version": 3
   },
   "file_extension": ".py",
   "mimetype": "text/x-python",
   "name": "python",
   "nbconvert_exporter": "python",
   "pygments_lexer": "ipython3",
   "version": "3.8.8"
  }
 },
 "nbformat": 4,
 "nbformat_minor": 5
}
